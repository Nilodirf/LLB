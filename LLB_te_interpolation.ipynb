{
 "cells": [
  {
   "cell_type": "markdown",
   "id": "2c5776aa-73a0-410c-8b70-8abcbd65079f",
   "metadata": {},
   "source": [
    "# LLB implementation with dynamical evaluation of constants"
   ]
  },
  {
   "cell_type": "markdown",
   "id": "f430c913-357e-4852-985b-d7c042270dae",
   "metadata": {},
   "source": [
    "In this attempt, I will set up the simulation to only precalulate and interpolate the temperature map and mean field magnetization. All other temperature dependent paramters will be evaluated dynamically from the interpolated temperatures and mean field amgnetizations. To determin the under/obver T_c behavoiur at each timestep and in each grain we precondruct a boolean-array-map saving only under/over tc. To read this information out at desired timesteps we use finderb "
   ]
  },
  {
   "cell_type": "markdown",
   "id": "47bb1c1e-c1ee-4a8e-b707-790b2a871386",
   "metadata": {},
   "source": [
    "## Import packages"
   ]
  },
  {
   "cell_type": "code",
   "execution_count": 1,
   "id": "4157cfbb-130a-42c9-af17-f14a468c1ed5",
   "metadata": {},
   "outputs": [],
   "source": [
    "import numpy as np\n",
    "from scipy import constants as sp\n",
    "from scipy import optimize as op\n",
    "from scipy import interpolate as ip\n",
    "from matplotlib import pyplot as plt\n",
    "import itertools\n",
    "import time\n",
    "from scipy.integrate import solve_ivp"
   ]
  },
  {
   "cell_type": "markdown",
   "id": "990f4903-2a45-4031-b871-064eeff59a95",
   "metadata": {},
   "source": [
    "## Define finderb"
   ]
  },
  {
   "cell_type": "markdown",
   "id": "3f6bbef9-3509-44a9-8909-d163b699de87",
   "metadata": {},
   "source": [
    "Just as used in udkm1dsim. Is used here only to find the proper timestep to select over/under Tc behaviour."
   ]
  },
  {
   "cell_type": "code",
   "execution_count": 2,
   "id": "b1f4ca14-d847-4433-8eac-73e52d7cbef6",
   "metadata": {},
   "outputs": [],
   "source": [
    "def finderb(key, array):\n",
    "    \"\"\"finderb\n",
    "\n",
    "    Binary search algorithm for sorted array. Searches for the first index\n",
    "    ``i`` of array where ``key`` >= ``array[i]``. ``key`` can be a scalar or\n",
    "    a np.ndarray of keys. ``array`` must be a sorted np.ndarray.\n",
    "\n",
    "    Author: André Bojahr.\n",
    "    Licence: BSD.\n",
    "\n",
    "    Args:\n",
    "        key (float, ndarray[float]): single or multiple sorted keys.\n",
    "        array (ndarray[float]): sorted array.\n",
    "\n",
    "    Returns:\n",
    "        i (ndarray[float]): position indices for each key in the array.\n",
    "\n",
    "    \"\"\"\n",
    "    key = np.array(key, ndmin=1)\n",
    "    n = len(key)\n",
    "    i = np.zeros([n], dtype=int)\n",
    "\n",
    "    for m in range(n):\n",
    "        i[m] = finderb_nest(key[m], array)\n",
    "    return i"
   ]
  },
  {
   "cell_type": "code",
   "execution_count": 3,
   "id": "9093b1b9-4d0a-4108-9b0f-f223a8bb8314",
   "metadata": {},
   "outputs": [],
   "source": [
    "def finderb_nest(key, array):\n",
    "    \"\"\"finderb_nest\n",
    "\n",
    "    Nested sub-function of :func:`.finderb` for one single key.\n",
    "\n",
    "    Author: André Bojahr.\n",
    "    Licence: BSD.\n",
    "\n",
    "    Args:\n",
    "        key (float): single key.\n",
    "        array (ndarray[float]): sorted array.\n",
    "\n",
    "    Returns:\n",
    "        a (float): position index of key in the array.\n",
    "\n",
    "    \"\"\"\n",
    "    a = 0  # start of intervall\n",
    "    b = len(array)  # end of intervall\n",
    "\n",
    "    # if the key is smaller than the first element of the\n",
    "    # vector we return 1\n",
    "    if key < array[0]:\n",
    "        return 0\n",
    "\n",
    "    while (b-a) > 1:  # loop until the intervall is larger than 1\n",
    "        c = int(np.floor((a+b)/2))  # center of intervall\n",
    "        if key < array[c]:\n",
    "            # the key is in the left half-intervall\n",
    "            b = c\n",
    "        else:\n",
    "            # the key is in the right half-intervall\n",
    "            a = c\n",
    "\n",
    "    return a"
   ]
  },
  {
   "cell_type": "markdown",
   "id": "a9ebc94e-561e-498b-bdb3-538d582c2ccb",
   "metadata": {},
   "source": [
    "## Define material class"
   ]
  },
  {
   "cell_type": "code",
   "execution_count": 4,
   "id": "456cd41e-b032-4187-bdf0-2ea4dd4a3ef1",
   "metadata": {},
   "outputs": [],
   "source": [
    "class material():\n",
    "    def __init__(self, name, S, Tc, lamda, muat, kappa_anis, anis_axis, K_0, A_0, Ms, Delta):\n",
    "        self.name=name                                      # name of the material used for the string representation of the class\n",
    "        self.S=S                                            # effective spin\n",
    "        self.Tc=Tc                                          # Curie temperature\n",
    "        self.J=3*self.S/(self.S+1)*sp.k*self.Tc             # mean field exchange coupling constant\n",
    "        self.mean_mag_map=self.create_mean_mag_map()         # creates the mean magnetization map over temperature as an interpolation function\n",
    "        self.lamda=lamda                                    # intrinsic coupling to bath parameter\n",
    "        self.muat=muat                                      # atomic magnetic moment in units of mu_Bohr\n",
    "        self.kappa_anis=kappa_anis                          # exponent for the temperature dependence of uniaxial anisotropy\n",
    "        self.anis_axis=anis_axis                            # uniaxials anisotropy axis (x:0, y:1, z:2) other anisotropies are not yet implemented \n",
    "        self.K_0=K_0                                        # value for the anisotropy at T=0 K in units of J/m^3\n",
    "        self.A_0=A_0                                        # value for the exchange stiffness at T=0 K in units of J/m\n",
    "        self.Ms=Ms                                          # value for the saturation magnetization at 0K in J/T/m^3\n",
    "        self.Delta=Delta                                    # length of the grain in depth direction in m\n",
    "        \n",
    "    def __str__(self):\n",
    "        return self.name\n",
    "    \n",
    "    def create_mean_mag_map(self):\n",
    "        # This function computes the mean field mean magnetization map by solving the self-consistent equation m=B(m, T)\n",
    "        # As an output we get an interpolation function of the mean field magnetization at any temperature T<=T_c (this can of course be extended to T>T_c with zeros).\n",
    "\n",
    "        # Start by defining a unity function m=m:\n",
    "        def mag(m):\n",
    "            return m\n",
    "\n",
    "        # Define the Brillouin function as a function of scalars, as fsolve takes functions of scalars:\n",
    "        def Brillouin(m, T):\n",
    "            # This function takes input parameters\n",
    "            #   (i) magnetization amplitude m_amp_grid (scalar)\n",
    "            #   (ii) (electron) temperature (scalar)\n",
    "            # As an output we get the Brillouin function evaluated at (i), (ii) (scalar)\n",
    "\n",
    "            eta = self.J * m / sp.k / T /self.Tc\n",
    "            c1 = (2 * self.S + 1) / (2 * self.S)\n",
    "            c2 = 1 / (2 * self.S)\n",
    "            bri_func = c1 / np.tanh(c1 * eta) - c2 / np.tanh(c2 * eta)\n",
    "            return bri_func\n",
    "\n",
    "        # Then we also need a temperature grid. I'll make it course grained for low temperatures (<0.8*Tc) (small slope) and fine grained for large temperatures (large slope):\n",
    "        temp_grid=np.array(list(np.arange(0, 0.8, 1e-3))+list(np.arange(0.8, 1+1e-5, 1e-5)))\n",
    "\n",
    "        # I will define the list of m_eq(T) here and append the solutions of m=B(m, T). It will have the length len(temp_grid) at the end.\n",
    "        meq_list=[1.]\n",
    "\n",
    "        # Define a function to find the intersection of m and B(m, T) for given T with scipy:\n",
    "        def find_intersection_sp(m, Bm, m0):\n",
    "            return op.fsolve(lambda x: m(x) - Bm(x), m0)\n",
    "\n",
    "        # Find meq for every temperature, starting point for the search being (1-T/Tc)^(1/2), fill the list\n",
    "        for i,T in enumerate(temp_grid[1:]):\n",
    "            # Redefine the Brillouin function to set the temperature parameter (I did not find a more elegant solution to this):\n",
    "            def Brillouin_2(m):\n",
    "                return Brillouin(m, T)\n",
    "            # Get meq:\n",
    "            meq=find_intersection_sp(mag, Brillouin_2, np.sqrt(1-T))\n",
    "            if meq[0]<0:            # This is a comletely unwarranted fix for values of meq<0 at temperatures very close to Tc, that fsolve produces. It seems to work though, as the interpolated function plotted by plot_mean_mags() seems clean.\n",
    "                meq[0]*=-1\n",
    "            # Append it to list me(T)\n",
    "            meq_list.append(meq[0])\n",
    "        meq_list[-1]=0              # This fixes slight computational errors to fix m_eq(Tc)=0 (it produces something like m_eq[-1]=1e-7)\n",
    "        return ip.interp1d(temp_grid, meq_list)\n",
    "    \n",
    "    def dbrillouin_t1(self):\n",
    "        return 1/4/self.S**2\n",
    "    \n",
    "    def dbrillouin_t2(self):\n",
    "        return (2*self.S+1)**2/4/self.S**2\n",
    "    \n",
    "    def get_mean_mag(self, T, tc_mask):\n",
    "        # After creating the map, this function can be called to give m_eq at any temperature\n",
    "        # The function takes a 1d-array of temperatures as an input (temperature map at each timestep) and returns an array with the respective mean field equilibrium magnetization\n",
    "        meq=np.zeros(T.shape)\n",
    "        meq[tc_mask]=self.mean_mag_map(T[tc_mask])\n",
    "        return meq\n",
    "    \n",
    "    def alpha_par(self):\n",
    "        # This funtion computes the longitudinal damping parameter alpha_parallel\n",
    "        return 2*self.lamda/(self.S+1)\n",
    "\n",
    "    def qs(self):\n",
    "        # This function computes the first term of the transverse damping parameter alpha_transverse\n",
    "        qs=3*self.Tc/(2*self.S+1)\n",
    "        return qs\n",
    "    \n",
    "    def chi_par_num(self):\n",
    "        return 1/sp.k*self.muat*9.274e-24\n",
    "    \n",
    "    def chi_par_denomm1(self):\n",
    "        return self.J/sp.k\n",
    "    \n",
    "    def anisotropy(self):\n",
    "        #This takes mean field magnetization (1d-array of length N (number of grains)), magnetization vectors (dimension 3xN), magnetization amplitudes (length N) and easy axis ([0,1,2] corresponding to [x,y,z])\n",
    "        return -2*self.K_0"
   ]
  },
  {
   "cell_type": "markdown",
   "id": "3fbd4798-2832-4bd5-b4fc-b91db15a7e97",
   "metadata": {},
   "source": [
    "## Create a sample structure"
   ]
  },
  {
   "cell_type": "code",
   "execution_count": 5,
   "id": "023cfecb-0fa2-42cd-9e14-8843c9fc0fd2",
   "metadata": {},
   "outputs": [],
   "source": [
    "def get_sample():\n",
    "    # This is a dummy function that should definitely be replaced by outputs from your code. It does not take any input parameters as I define everything here.\n",
    "    # As an output we get\n",
    "    #   (i) a 1d list of M materials within the sample (materials on the scale of the grainsize of the macrospins)\n",
    "    #   (ii) a 1d numpy array of the actual sample consisting of stacked layers of the M materials\n",
    "    #   (iii-v) magnetization amplitudes and angles\n",
    "    \n",
    "    # Define define three dummy materials with different parameters:\n",
    "    mat_1 = material('Nickel', 0.5, 630., 0.005, 0.393, 3, 2,  0.45e6, -1e-11, 500e3, 1e-9)\n",
    "    mat_2 = material('Cobalt', 1e6, 1480., 0.1, 0.393, 3, 2, 0.45e6, -1e-11*0., 1400e3, 1e-9)\n",
    "    mat_3 = material('Iron', 2., 1024., 0.005, 2.2, 3, 2, 0.45e6, -1e-11, 200e3, 1e-9)\n",
    "    #FGT = material ('FGT', 0.5, 220., 0.01, 2.2, 3, 2, 0.45e6, 1e-11, 200e-13, 1e-9)\n",
    "    #FGT2 = material ('FGT2', 2., 220., 0.01, 2.2, 3, 2, 0.45e6, 1e-11, 200e-13, 1e-9)\n",
    "    \n",
    "    materials=[mat_2]\n",
    "    \n",
    "    Nickel_1=[mat_1 for _ in range(10)]\n",
    "    Cobalt=[mat_2 for _ in range(15)]\n",
    "    Iron=[mat_3 for _ in range(10)]\n",
    "    Nickel_2=[mat_1 for _ in range(25)]\n",
    "    \n",
    "    sample=np.array(Cobalt)\n",
    "    \n",
    "    #The following constructs a list of lists, containing in list[i] a list of indices of material i in the sample_structure. This will help compute the mean field magnetization only once for every material at each timestep. \n",
    "    material_grain_indices=[]\n",
    "    for mat in materials:\n",
    "        material_grain_indices.append([i for i in range(len(sample)) if sample[i]==mat])\n",
    "    material_grain_indices_flat=[index for mat_list in material_grain_indices for index in mat_list]\n",
    "    sample_sorter=np.array([material_grain_indices_flat.index(i) for i in np.arange(len(sample))])\n",
    "    \n",
    "    #The following list locates which material is positioned at which grain of the sample. THis will later be used to define an array of material paramters for the whole sample \n",
    "    mat_locator=[materials.index(grain) for grain in sample]\n",
    "\n",
    "    #Define initial magnetization on the whole sample (for simplicity uniform) and fully magnetized along the z-axis\n",
    "    m_amp = np.ones(len(sample))\n",
    "    m_phi = np.zeros(len(sample))\n",
    "    m_gamma = np.zeros(len(sample))\n",
    "    return materials, sample, m_amp, m_phi, m_gamma, material_grain_indices, sample_sorter, mat_locator"
   ]
  },
  {
   "cell_type": "code",
   "execution_count": 6,
   "id": "048bf70a-d42d-4262-82e4-828aec4b8dfc",
   "metadata": {},
   "outputs": [],
   "source": [
    "def plot_mean_mags(materials):\n",
    "    #define a temperature grid:\n",
    "    temps=np.arange(0,2+1e-4, 1e-4)\n",
    "    tc_mask=temps<1.\n",
    "    temps[-1]=1.\n",
    "    for i,m in enumerate(materials):\n",
    "        mmag=get_mean_mag(m, temps, tc_mask)\n",
    "        label=str(m.name)\n",
    "        plt.plot(temps*m.Tc, mmag, label=label)\n",
    "\n",
    "    plt.xlabel(r'Temperature [K]', fontsize=16)\n",
    "    plt.ylabel(r'$m_{\\rm{eq}}$', fontsize=16)\n",
    "    plt.legend(fontsize=14)\n",
    "    plt.title(r'$m_{\\rm{eq}}$ for all materials in sample', fontsize=18)\n",
    "    plt.savefig('plots/meqtest.pdf')\n",
    "    plt.show()"
   ]
  },
  {
   "cell_type": "markdown",
   "id": "8be7b3c6-9e88-438e-a638-98016bdb9be7",
   "metadata": {},
   "source": [
    "## Define parameters on sample structure"
   ]
  },
  {
   "cell_type": "code",
   "execution_count": 7,
   "id": "b1be9de9-5408-4062-8c9f-75d78f458b96",
   "metadata": {},
   "outputs": [],
   "source": [
    "def get_ex_stiff_sample(materials, sample, mat_loc, Ms_sam, Delta2_sam):\n",
    "    #This computes a grid for the exchange stiffness in analogous fashion to get_exch_coup_sam()\n",
    "    A_mat=np.zeros((len(materials), len(materials)))\n",
    "    for i, mat in enumerate(materials):\n",
    "        A_mat[i][i]=mat.A_0\n",
    "        \n",
    "    #A_mat[0][1]=-1e-11\n",
    "    #A_mat[1][2]=-5e-11\n",
    "    #A_mat[0][2]=-2.5e-11\n",
    "    \n",
    "    for i in range(1, len(materials)):\n",
    "        for j in range(i):\n",
    "            A_mat[i][j]=A_mat[j][i]\n",
    "            \n",
    "    ex_stiff_arr=np.ones((len(sample),2))*A_mat[0][0]\n",
    "    \n",
    "    for i, grain in enumerate(sample):\n",
    "        if i>0:\n",
    "            ex_stiff_arr[i][0]=A_mat[mat_loc[i]][mat_loc[i-1]]\n",
    "        if i<len(sample)-1:\n",
    "            ex_stiff_arr[i][1]=A_mat[mat_loc[i]][mat_loc[i+1]]\n",
    "    return np.divide(ex_stiff_arr, np.multiply(Ms_sam, Delta2_sam)[:,np.newaxis])"
   ]
  },
  {
   "cell_type": "code",
   "execution_count": 8,
   "id": "50420e82-5305-41c8-ac1f-aca0cc63b744",
   "metadata": {},
   "outputs": [],
   "source": [
    "def S_sample(sample):\n",
    "    return np.array([mat.S for mat in sample])"
   ]
  },
  {
   "cell_type": "code",
   "execution_count": 9,
   "id": "e6a99550-e262-41ed-988d-5bf1c31aed1b",
   "metadata": {},
   "outputs": [],
   "source": [
    "def Tc_sample(sample):\n",
    "    return np.array([mat.Tc for mat in sample])"
   ]
  },
  {
   "cell_type": "code",
   "execution_count": 10,
   "id": "041e759e-c7f3-4f8e-954c-1da9bd31fadc",
   "metadata": {},
   "outputs": [],
   "source": [
    "def J_sample(sample):\n",
    "    return np.array([mat.J for mat in sample])"
   ]
  },
  {
   "cell_type": "code",
   "execution_count": 11,
   "id": "5eeda8f3-7af6-40a5-b366-83191d69e01e",
   "metadata": {},
   "outputs": [],
   "source": [
    "def lamda_sample(sample):\n",
    "    return np.array([mat.lamda for mat in sample])"
   ]
  },
  {
   "cell_type": "code",
   "execution_count": 12,
   "id": "c0909d8e-9f01-456d-94f3-373664aafe47",
   "metadata": {},
   "outputs": [],
   "source": [
    "def muat_sample(sample):\n",
    "    return np.array([mat.muat for mat in sample])"
   ]
  },
  {
   "cell_type": "code",
   "execution_count": 13,
   "id": "2fb33516-4173-466a-8a5d-3320e2de4fcc",
   "metadata": {},
   "outputs": [],
   "source": [
    "def Ms_sample(sample):\n",
    "    return np.array([mat.Ms for mat in sample])"
   ]
  },
  {
   "cell_type": "code",
   "execution_count": 14,
   "id": "05d40794-28b0-407b-b545-078d6bfad48c",
   "metadata": {},
   "outputs": [],
   "source": [
    "def Delta2_sample(sample):\n",
    "    return np.array([mat.Delta**2 for mat in sample])"
   ]
  },
  {
   "cell_type": "code",
   "execution_count": 15,
   "id": "73f001d3-2251-4951-9735-c2c31b5c4588",
   "metadata": {},
   "outputs": [],
   "source": [
    "def get_ani_sample(sample, Ms_sam):\n",
    "    ani_sam=np.divide(np.array([mat.anisotropy() for mat in sample]), Ms_sam)\n",
    "    kappa_ani_sam=np.array([mat.kappa_anis for mat in sample])\n",
    "    ani_perp_sam= np.ones((len(sample), 3))\n",
    "    for i,mat in enumerate(sample):\n",
    "        ani_perp_sam[i, mat.anis_axis]=0\n",
    "    return ani_sam, kappa_ani_sam, ani_perp_sam"
   ]
  },
  {
   "cell_type": "code",
   "execution_count": 16,
   "id": "c75a8d56-f809-45bd-895d-6639241148d6",
   "metadata": {},
   "outputs": [],
   "source": [
    "def alpha_par_sample(sample):\n",
    "    return np.array([mat.alpha_par() for mat in sample])"
   ]
  },
  {
   "cell_type": "code",
   "execution_count": 17,
   "id": "4e03fa62-726a-4e78-9e90-272824bd3a0a",
   "metadata": {},
   "outputs": [],
   "source": [
    "def qs_sample(sample):\n",
    "    return np.array([mat.qs() for mat in sample])"
   ]
  },
  {
   "cell_type": "code",
   "execution_count": 18,
   "id": "b8679ef9-7c16-4a31-9e14-9ec8a69a55fa",
   "metadata": {},
   "outputs": [],
   "source": [
    "def dbrillouin_t1_sample(sample):\n",
    "    return np.array([mat.dbrillouin_t1() for mat in sample])\n",
    "\n",
    "def dbrillouin_t2_sample(sample):\n",
    "    return np.array([mat.dbrillouin_t2() for mat in sample])"
   ]
  },
  {
   "cell_type": "code",
   "execution_count": 19,
   "id": "17d6c5eb-650c-4836-a1cc-34920be9fb22",
   "metadata": {},
   "outputs": [],
   "source": [
    "def chi_par_num_sample(sample):\n",
    "    return np.array([mat.chi_par_num() for mat in sample])\n",
    "\n",
    "def chi_par_denomm1_sample(sample):\n",
    "    return np.array([mat.chi_par_denomm1() for mat in sample])"
   ]
  },
  {
   "cell_type": "markdown",
   "id": "f17b5232-5984-4712-aa24-5b2714de1401",
   "metadata": {},
   "source": [
    "## Functions to import temperature map and create corresponding mean_mag_map"
   ]
  },
  {
   "cell_type": "code",
   "execution_count": 20,
   "id": "b5f4ab3c-4a7c-4365-bc6b-e9ea8003efca",
   "metadata": {},
   "outputs": [],
   "source": [
    "def get_tes():\n",
    "    delay=np.load('temp_test/delays.npy')\n",
    "    teNi1=np.load('temp_test/tesNickel0.npy')\n",
    "    teCo2=np.load('temp_test/tesCobalt1.npy')\n",
    "    teFe3=np.load('temp_test/tesIron2.npy')\n",
    "    teNi4=np.load('temp_test/tesNickel3.npy')\n",
    "    tes=np.append(teNi1, teCo2, axis=1)\n",
    "    tes=np.append(tes, teFe3, axis=1)\n",
    "    tes=np.append(tes, teNi4, axis=1)\n",
    "    tes=teCo2\n",
    "    return delay, tes"
   ]
  },
  {
   "cell_type": "code",
   "execution_count": 21,
   "id": "9e5a190f-22e8-4d44-b9dc-0fc671d68236",
   "metadata": {},
   "outputs": [],
   "source": [
    "def get_tc_mask(te_red, Tc_sam):\n",
    "    under_tc=te_red<1.\n",
    "    return under_tc"
   ]
  },
  {
   "cell_type": "code",
   "execution_count": 22,
   "id": "688f9f64-a7a0-4e78-9f52-8822a80c3273",
   "metadata": {},
   "outputs": [],
   "source": [
    "def get_mean_mag_sample_Ts(te_red, under_tc, mat_gr_ind, mat_gr_ind_flat, materials):\n",
    "    mmag_sam_T=[[materials[i].get_mean_mag(te_red[:,j], under_tc[:,j]) for j in mat_gr_ind[i]] for i in range(len(mat_gr_ind))]\n",
    "    mmag_sam_T_flat=np.concatenate(mmag_sam_T)[mat_gr_ind_flat]\n",
    "    return mmag_sam_T_flat"
   ]
  },
  {
   "cell_type": "markdown",
   "id": "3bf00fcc-4c46-4107-a0e0-65573993d6bd",
   "metadata": {},
   "source": [
    "## Transform initial polar magnetization input into cartesian coordinates"
   ]
  },
  {
   "cell_type": "code",
   "execution_count": 23,
   "id": "7b722da9-630d-4ae2-a460-a71293de144e",
   "metadata": {},
   "outputs": [],
   "source": [
    "def get_mag(polar_dat):\n",
    "    # This function takes as input parameters the amplitude and angles (A, gamma, phi) and puts out a numpy array of dimension 3xlen(sample)\n",
    "    # with 3 magnetization components for len(sample) grains\n",
    "    amp=polar_dat[0,:]\n",
    "    gamma=polar_dat[1,:]\n",
    "    phi=polar_dat[2,:]\n",
    "    sin_phi=np.sin(phi)\n",
    "    \n",
    "    mx=amp*sin_phi*np.cos(gamma)\n",
    "    my=amp*sin_phi*np.sin(gamma)\n",
    "    mz=amp*np.cos(phi)\n",
    "    \n",
    "    return np.array([mx,my,mz]).T"
   ]
  },
  {
   "cell_type": "markdown",
   "id": "8f378ac8-c172-4193-b09d-8e688059f1d9",
   "metadata": {},
   "source": [
    "## Setup of temperature dynamic parameters"
   ]
  },
  {
   "cell_type": "code",
   "execution_count": 24,
   "id": "f31368b8-cad0-4b5f-bef5-8787947e8f29",
   "metadata": {},
   "outputs": [],
   "source": [
    "def ani_sample_T(mmag_sam_T, K0_sam, kappa_ani_sam):\n",
    "    return np.multiply(K0_sam,np.power(mmag_sam_T,kappa_ani_sam-2))"
   ]
  },
  {
   "cell_type": "code",
   "execution_count": 25,
   "id": "3ac87b42-9ab4-4a48-8199-07d0216e8a77",
   "metadata": {},
   "outputs": [],
   "source": [
    "def ex_stiff_sample_T(mmag_sam_T, ex_stiff_sam):\n",
    "    return np.multiply(np.power(mmag_sam_T[:, np.newaxis],2-2),ex_stiff_sam)"
   ]
  },
  {
   "cell_type": "code",
   "execution_count": 26,
   "id": "35cd3d38-5fd5-4376-8e48-9ac5dc77395b",
   "metadata": {},
   "outputs": [],
   "source": [
    "def qs_sample_T(qs_sam, mmag_sam_T, T):\n",
    "    return qs_sam*mmag_sam_T/T"
   ]
  },
  {
   "cell_type": "code",
   "execution_count": 27,
   "id": "46036bdc-d5c1-4c58-8084-e5a6976350e1",
   "metadata": {},
   "outputs": [],
   "source": [
    "def alpha_par_sample_T(mmag_sam_T, T, alpha_par_sam, qs_sam_T, Tc_sam, under_tc, over_tc, lambda_sam):\n",
    "    apsT=np.zeros(len(T))\n",
    "    apsT[under_tc]=alpha_par_sam[under_tc]/np.sinh(2*qs_sam_T[under_tc])\n",
    "    apsT[over_tc]=lambda_sam[over_tc]*2/3*np.divide(T[over_tc], Tc_sam[over_tc])\n",
    "    return apsT"
   ]
  },
  {
   "cell_type": "code",
   "execution_count": 28,
   "id": "f6922b8d-6067-451c-b668-9d142a391bf2",
   "metadata": {},
   "outputs": [],
   "source": [
    "def alpha_trans_sample_T(mmag_sam_T, lamda_sam, T, qs_sam_T, Tc_sam, under_tc, over_tc, lambda_sam):\n",
    "    atsT=np.zeros(len(T))\n",
    "    atsT[under_tc]=np.multiply(lambda_sam[under_tc], (np.divide(np.tanh(qs_sam_T[under_tc]), qs_sam_T[under_tc])-np.divide(T[under_tc],3*Tc_sam[under_tc])))\n",
    "    atsT[over_tc]=lambda_sam[over_tc]*2/3*np.divide(T[over_tc], Tc_sam[over_tc])\n",
    "    return atsT"
   ]
  },
  {
   "cell_type": "code",
   "execution_count": 29,
   "id": "38100478-a961-4801-b44e-7fdf3099acf2",
   "metadata": {},
   "outputs": [],
   "source": [
    "def eta_sample_T(mmag_sam_T, J_sam, T):\n",
    "    return J_sam*mmag_sam_T/sp.k/T\n",
    "\n",
    "def dbrillouin_sample_T(eta_sam_T, S_sam, dbrillouin_t1_sam, dbrillouin_t2_sam):\n",
    "    two_S_sam=2*S_sam\n",
    "    x1=np.divide(eta_sam_T,two_S_sam)\n",
    "    x2=np.divide(np.multiply(eta_sam_T,(two_S_sam+1)),two_S_sam)\n",
    "    sinh_func=1/np.sinh(np.array([x1,x2]))**2\n",
    "    dbrillouin_sam_T=dbrillouin_t1_sam*sinh_func[0]-dbrillouin_t2_sam*sinh_func[1]\n",
    "    return dbrillouin_sam_T\n",
    "\n",
    "def chi_par_sample_T(chi_par_num_sam, chi_par_denomm1_sam, dbrillouin_sam_T, T, under_tc, over_tc, muat_sam, Tc_sam, J_sam):\n",
    "    cpsT=np.zeros(len(T))\n",
    "    cpsT[under_tc]=np.multiply(chi_par_num_sam[under_tc], np.divide(dbrillouin_sam_T, T[under_tc]-np.multiply(chi_par_denomm1_sam[under_tc], dbrillouin_sam_T)))\n",
    "    cpsT[over_tc]=np.divide(np.multiply(muat_sam[over_tc]*9.274e-24, Tc_sam[over_tc]), J_sam[over_tc]*(T[over_tc]-Tc_sam[over_tc]+1e-1))\n",
    "    return cpsT"
   ]
  },
  {
   "cell_type": "markdown",
   "id": "8d528a61-6fef-4e48-8137-f64383df95e2",
   "metadata": {},
   "source": [
    "## Components of effective field (magnetization dependent)"
   ]
  },
  {
   "cell_type": "code",
   "execution_count": 30,
   "id": "2297a224-4cac-48c5-a1ba-28922113669e",
   "metadata": {},
   "outputs": [],
   "source": [
    "def anis_field(anis_sam_T, m, ani_perp_sam):\n",
    "    return anis_sam_T[:, np.newaxis]*(m*ani_perp_sam)"
   ]
  },
  {
   "cell_type": "code",
   "execution_count": 31,
   "id": "bcd5627e-c224-432d-91dd-118d37c43cdb",
   "metadata": {},
   "outputs": [],
   "source": [
    "def ex_field(ex_stiff_sam_T, m_diff_up, m_diff_down):\n",
    "    return ex_stiff_sam_T[:,0][:,np.newaxis]*m_diff_up+ex_stiff_sam_T[:,1][:,np.newaxis]*m_diff_down"
   ]
  },
  {
   "cell_type": "code",
   "execution_count": 32,
   "id": "fe4d1d2e-6fc0-459f-864d-ad1476d2fd23",
   "metadata": {},
   "outputs": [],
   "source": [
    "def th_field(m, m_squared, mmag_sam_T, T, Tc_sam, chi_par_sam_T, under_tc, over_tc):\n",
    "    factor = 1/chi_par_sam_T\n",
    "    H_th = np.zeros(len(T))\n",
    "    H_th[under_tc] = (1-m_squared[under_tc]/mmag_sam_T[under_tc]**2)*factor[under_tc]/2\n",
    "    H_th[over_tc] = -(1+3/5*Tc_sam[over_tc]/(T[over_tc]-Tc_sam[over_tc]+1e-1))*m_squared[over_tc]*factor[over_tc]\n",
    "    return H_th[:, np.newaxis]*m  "
   ]
  },
  {
   "cell_type": "markdown",
   "id": "69fe7c0f-6ed1-4742-8b61-071ed5108213",
   "metadata": {},
   "source": [
    "## Main function"
   ]
  },
  {
   "cell_type": "code",
   "execution_count": 33,
   "id": "42300e13-f396-459a-a102-260139a1a976",
   "metadata": {},
   "outputs": [],
   "source": [
    "def integrate_LLB():\n",
    "    starttime=time.time()\n",
    "    gamma=1.76e11 # gyromagnetic ratio in (Ts)^{-1}\n",
    "\n",
    "    # import temperature map\n",
    "    times, tes=get_tes()\n",
    "    N=len(times)\n",
    "    \n",
    "    # load a sample and call the functions to get all parameters on the sample structure:\n",
    "    materials, sample, m_amp, m_phi, m_gamma, mat_gr_ind, mat_gr_ind_flat, mat_loc=get_sample()\n",
    "    \n",
    "    H_ext=np.array([[0,0,0] for _ in sample]) #external field in T\n",
    "    \n",
    "    \n",
    "    # load initial magnetization\n",
    "    m0=get_mag(np.array([m_amp, m_phi, m_gamma])).flatten()\n",
    "    \n",
    "    # Create static parameters on sample structure\n",
    "    Ms_sam=Ms_sample(sample)\n",
    "    Delta2_sam=Delta2_sample(sample)\n",
    "    S_sam=S_sample(sample)\n",
    "    Tc_sam=Tc_sample(sample)\n",
    "    J_sam=J_sample(sample)\n",
    "    lamda_sam=lamda_sample(sample)\n",
    "    muat_sam=muat_sample(sample)\n",
    "    ex_stiff_sam=get_ex_stiff_sample(materials, sample, mat_loc, Ms_sam, Delta2_sam)\n",
    "    K0_sam, kappa_ani_sam, ani_perp_sam=get_ani_sample(sample, Ms_sam)\n",
    "    alpha_par_sam=alpha_par_sample(sample)\n",
    "    qs_sam=qs_sample(sample)\n",
    "    dbrillouin_t1_sam=dbrillouin_t1_sample(sample)\n",
    "    dbrillouin_t2_sam=dbrillouin_t2_sample(sample)\n",
    "    chi_par_num_sam=chi_par_num_sample(sample)\n",
    "    chi_par_denomm1_sam=chi_par_denomm1_sample(sample)\n",
    "    \n",
    "    # create boolean array seperating temperature values under and over the respective Curie temperatures of materials in the sample:\n",
    "    Te_red=np.divide(tes, Tc_sam)\n",
    "    utc=get_tc_mask(Te_red, Tc_sam)\n",
    "    otc=~utc\n",
    "\n",
    "    # create the mean magnetization map for the imported temperature map:\n",
    "    mms=get_mean_mag_sample_Ts(Te_red, utc, mat_gr_ind, mat_gr_ind_flat, materials)\n",
    "    \n",
    "    # timecheck incoming\n",
    "    inichecktime=time.time()\n",
    "    initime=inichecktime-starttime\n",
    "    print('Time used to import temperature map and initialize mean mag map and set up static parameters on sample strucure:' , str(initime) , 's')\n",
    "    \n",
    "    # define and call interpolation functions for temperature map and mean_magnetization\n",
    "    def mean_mag_interpol(t):\n",
    "        return ip.interp1d(t,mms)\n",
    "    \n",
    "    def te_map(t):\n",
    "        return ip.interp1d(t, tes.T)\n",
    "    \n",
    "    mmag_ipl=mean_mag_interpol(times)\n",
    "    tes_ipl=te_map(times)\n",
    "    \n",
    "    #another timecheck\n",
    "    inichecktime2=time.time()\n",
    "    ini2time=inichecktime2-inichecktime\n",
    "    print('Creation of interpolation functions of (implicitly) time dependent parameters took' , str(ini2time), 's')\n",
    "    \n",
    "    def LLB(t, m_flat, mmag_ipl, tes_ipl):\n",
    "        \n",
    "        mmag_sam_T=mmag_ipl(t)\n",
    "        Te=tes_ipl(t)\n",
    "        \n",
    "        # find the closest timestep and select the corresponding boolean array for Tc_selection\n",
    "        t_index=finderb(t, times)[0]\n",
    "        under_tc=utc[t_index, :]\n",
    "        over_tc=~under_tc\n",
    "        \n",
    "        # unflatten the magnetization input and compute squares and\n",
    "        m=m_flat.reshape(len(sample), 3)\n",
    "        m_squared=np.sum(np.power(m,2), axis=-1)\n",
    "        m_diff_down=np.concatenate((np.diff(m, axis=0), np.zeros((1, 3))), axis=0)\n",
    "        m_diff_up=-np.roll(m_diff_down, 1)\n",
    "        \n",
    "        # evaluate the temperature dependence of parameters\n",
    "        anis_sam_T=ani_sample_T(mmag_sam_T, K0_sam, kappa_ani_sam)\n",
    "        ex_stiff_sam_T=ex_stiff_sample_T(mmag_sam_T, ex_stiff_sam)\n",
    "        qs_sam_T=qs_sample_T(qs_sam, mmag_sam_T, Te)\n",
    "        eta_sam_T=eta_sample_T(mmag_sam_T, J_sam, Te)\n",
    "        dbrillouin_sam_T=dbrillouin_sample_T(eta_sam_T[under_tc], S_sam[under_tc], dbrillouin_t1_sam[under_tc], dbrillouin_t2_sam[under_tc])\n",
    "        chi_par_sam_T=chi_par_sample_T(chi_par_num_sam, chi_par_denomm1_sam, dbrillouin_sam_T, Te, under_tc, over_tc, muat_sam, Tc_sam, J_sam)\n",
    "\n",
    "\n",
    "        # and the effective field\n",
    "        H_ex=ex_field(ex_stiff_sam_T, m_diff_up, m_diff_down)\n",
    "        H_ani=anis_field(anis_sam_T, m, ani_perp_sam)\n",
    "        H_th=th_field(m, m_squared, mmag_sam_T, Te, Tc_sam, chi_par_sam_T, under_tc, over_tc)\n",
    "\n",
    "        H_eff=H_ani+H_ex+H_th+H_ext\n",
    "\n",
    "        # only missing the damping parameters:\n",
    "        alpha_par_sam_T=alpha_par_sample_T(mmag_sam_T, Te, alpha_par_sam, qs_sam_T, Tc_sam, under_tc, over_tc, lamda_sam)\n",
    "        alpha_trans_sam_T=alpha_trans_sample_T(mmag_sam_T, lamda_sam, Te, qs_sam_T, Tc_sam, under_tc, over_tc, lamda_sam)\n",
    "\n",
    "        # we will precompute the prefactors that are not of dimension len(sample)x3:\n",
    "\n",
    "        pref_trans=np.divide(alpha_trans_sam_T, m_squared)\n",
    "        pref_long=np.multiply(np.divide(alpha_par_sam_T, m_squared),np.einsum('ij,ij->i', m, H_eff))\n",
    "\n",
    "        # and all the cross products:\n",
    "        m_rot=np.cross(m,H_eff) #precessional term\n",
    "        m_trans=np.cross(m,m_rot) #transverse damping term\n",
    "\n",
    "        trans_damp= np.multiply(pref_trans[:,np.newaxis],m_trans)\n",
    "        long_damp= np.multiply(pref_long[:,np.newaxis], m)\n",
    "\n",
    "        # Now compute the magnetization increment\n",
    "        dm_dt=gamma*(-m_rot -trans_damp + long_damp)\n",
    "        return dm_dt.flatten()\n",
    "    \n",
    "    #Now call the solver with arguments of function, initial condition, time-array and parameterlist (the gathering of interpolation functions)\n",
    "    solved_LLB=solve_ivp(fun=lambda t,m: LLB(t, m, mmag_ipl, tes_ipl), t_span=(0,times[-1]), y0=m0, method='RK45')\n",
    "    \n",
    "    \n",
    "    #last timecheck\n",
    "    endtime=time.time()\n",
    "    dyntime=endtime-inichecktime\n",
    "    alltime=endtime-starttime\n",
    "    print('Dynamical calculation took' , str(dyntime) , 's')\n",
    "    print('The whole simulation took' , str(alltime), 's')\n",
    "    \n",
    "    #this is the mag map output:\n",
    "    return solved_LLB"
   ]
  },
  {
   "cell_type": "code",
   "execution_count": 34,
   "id": "be358376-f699-4d22-a670-2681a9691076",
   "metadata": {},
   "outputs": [
    {
     "name": "stderr",
     "output_type": "stream",
     "text": [
      "C:\\Users\\Theodor Griepe\\AppData\\Local\\Programs\\Python\\Python311\\Lib\\site-packages\\scipy\\optimize\\_minpack_py.py:175: RuntimeWarning: The iteration is not making good progress, as measured by the \n",
      "  improvement from the last ten iterations.\n",
      "  warnings.warn(msg, RuntimeWarning)\n"
     ]
    },
    {
     "name": "stdout",
     "output_type": "stream",
     "text": [
      "Time used to import temperature map and initialize mean mag map and set up static parameters on sample strucure: 11.612744569778442 s\n",
      "Creation of interpolation functions of (implicitly) time dependent parameters took 0.14761686325073242 s\n",
      "Dynamical calculation took 15.789095163345337 s\n",
      "The whole simulation took 27.40183973312378 s\n"
     ]
    }
   ],
   "source": [
    "mag_map=integrate_LLB()"
   ]
  },
  {
   "cell_type": "code",
   "execution_count": 35,
   "id": "e0b8f55c-458a-4931-b1ab-b372464651e6",
   "metadata": {},
   "outputs": [],
   "source": [
    "sim_delay=mag_map.t\n",
    "mm_rs=mag_map.y.T.flatten().reshape(len(mag_map.t), 15,3)"
   ]
  },
  {
   "cell_type": "code",
   "execution_count": 36,
   "id": "90646f35-9593-4ad6-8ed9-72972c7fa2cd",
   "metadata": {},
   "outputs": [
    {
     "data": {
      "image/png": "[encoded data removed]",
      "text/plain": [
       "<Figure size 640x480 with 2 Axes>"
      ]
     },
     "metadata": {},
     "output_type": "display_data"
    }
   ],
   "source": [
    "color_data = mm_rs[:, :, 2].T\n",
    "plt.imshow(color_data, cmap='hot', aspect='auto')\n",
    "plt.ylabel(r'grain position')\n",
    "plt.xlabel(r'time delay [$10^{-4}$ps]')\n",
    "plt.colorbar()\n",
    "plt.show()"
   ]
  },
  {
   "cell_type": "code",
   "execution_count": 37,
   "id": "4da0b689-8f15-4775-96de-caaa3cdb55ef",
   "metadata": {},
   "outputs": [
    {
     "data": {
      "image/png": "[encoded data removed]",
      "text/plain": [
       "<Figure size 640x480 with 1 Axes>"
      ]
     },
     "metadata": {},
     "output_type": "display_data"
    }
   ],
   "source": [
    "#plt.plot(delay, mag_map_man[:,:,2][:-1])\n",
    "#plt.scatter(delay, mys)\n",
    "\n",
    "plt.plot(sim_delay, mm_rs[:,:,2])\n",
    "plt.xlabel(r'delay [s]')\n",
    "plt.ylabel(r'magnetization component')\n",
    "\n",
    "#plt.plot(new_delay, mag_map_man[:,0,0][:-1])\n",
    "#plt.scatter(delay, mxs)\n",
    "\n",
    "plt.show()"
   ]
  },
  {
   "cell_type": "code",
   "execution_count": 38,
   "id": "0a4562be-31c7-4dd1-92e2-64241e7336bf",
   "metadata": {},
   "outputs": [],
   "source": [
    "t, te= get_tes()"
   ]
  },
  {
   "cell_type": "code",
   "execution_count": 39,
   "id": "a73f3024-6d19-4799-b44f-a266d9099f3e",
   "metadata": {},
   "outputs": [
    {
     "data": {
      "image/png": "[encoded data removed]",
      "text/plain": [
       "<Figure size 640x480 with 1 Axes>"
      ]
     },
     "metadata": {},
     "output_type": "display_data"
    }
   ],
   "source": [
    "plt.plot(t, te)\n",
    "plt.xlim(0,1e-12)\n",
    "plt.show()"
   ]
  },
  {
   "cell_type": "code",
   "execution_count": null,
   "id": "1f0eeba9-3410-4b6c-a266-ddd31894c0ec",
   "metadata": {},
   "outputs": [],
   "source": []
  }
 ],
 "metadata": {
  "kernelspec": {
   "display_name": "Python 3 (ipykernel)",
   "language": "python",
   "name": "python3"
  },
  "language_info": {
   "codemirror_mode": {
    "name": "ipython",
    "version": 3
   },
   "file_extension": ".py",
   "mimetype": "text/x-python",
   "name": "python",
   "nbconvert_exporter": "python",
   "pygments_lexer": "ipython3",
   "version": "3.11.1"
  }
 },
 "nbformat": 4,
 "nbformat_minor": 5
}
