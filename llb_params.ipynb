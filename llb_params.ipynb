{
 "cells": [
  {
   "cell_type": "markdown",
   "id": "f5343db9",
   "metadata": {},
   "source": [
    "# In this file, the dynamical parameters needed for the quantum LLB implementation are computed."
   ]
  },
  {
   "cell_type": "markdown",
   "id": "2f0b17a5",
   "metadata": {},
   "source": [
    "## We use mean field theory to get the temperature dependence of these parameters. The scaling is mostly defined by the mean field magnetization at a given temperature.\n",
    "## As an input for the computations, I assume 1d numpy-arrays of\n",
    "###   (1) magnetization amplitudes m_amp,\n",
    "###   (2) angles gamma in the transverse plane m_gamma,\n",
    "###   (3) angles phi in the magnetization plane m_phi,\n",
    "###   (4) the materials (unit cells) with UNIFORM parameters that shall be investigated\n",
    "###   (5) some structure that defines the configuration of different grains for magnetization computation\n",
    "###   (D),(E) electron (phonon)- temperatures Te(p) (at each time step 1 of these 1d arrays is needed)\n",
    "####   I define the inputs (1)-(5) in the function get_sample()  for an arbitrary sample consisting of three different unique grains"
   ]
  },
  {
   "cell_type": "code",
   "execution_count": 23,
   "id": "89486d44",
   "metadata": {},
   "outputs": [],
   "source": [
    "import numpy as np\n",
    "from scipy import constants as sp\n",
    "from scipy import optimize as op\n",
    "from scipy import interpolate as ip\n",
    "from matplotlib import pyplot as plt"
   ]
  },
  {
   "cell_type": "markdown",
   "id": "2cd3d85e",
   "metadata": {},
   "source": [
    "# (Magnetic) material class"
   ]
  },
  {
   "cell_type": "code",
   "execution_count": null,
   "id": "8b03fc2f",
   "metadata": {},
   "outputs": [],
   "source": [
    "class material():\n",
    "    def __init__(self, name, S, Tc, lamda, muat):\n",
    "        self.name=name                                      # name of the material used for the string representation of the class\n",
    "        self.S=S                                            # effective spin\n",
    "        self.Tc=Tc                                          # Curie temperature\n",
    "        self.J=3*self.S/(self.S+1)*sp.k*self.Tc             # mean field exchange coupling constant\n",
    "        self.mean_mag_map=self.create_mean_mag_map()        # creates the mean magnetization map over temperature as an interpolation function\n",
    "        self.mean_mag_deriv=self.create_mean_mag_deriv()    # creates the mean magnetization derivative of temperature as an interpolation function\n",
    "        self.lamda=lamda                                    # intrinsic coupling to bath parameter\n",
    "        self.muat=muat                                      # atomic magnetic moment"
   ]
  },
  {
   "cell_type": "code",
   "execution_count": null,
   "id": "e2e61949",
   "metadata": {},
   "outputs": [],
   "source": [
    "    def __str__(self):\n",
    "        return self.name"
   ]
  },
  {
   "cell_type": "markdown",
   "id": "10bc9ddc",
   "metadata": {},
   "source": [
    "From effective spin and Curie temperature we can already abstract the mean field magnetization map, which is the basis of all temperature dependent parameters in the quantum LLB"
   ]
  },
  {
   "cell_type": "code",
   "execution_count": 29,
   "id": "1778a430",
   "metadata": {},
   "outputs": [],
   "source": [
    "    def create_mean_mag_map(self):\n",
    "        # This function computes the mean field mean magnetization map by solving the self-consistent equation m=B(m, T)\n",
    "        # As an output we get an interpolation function of the mean field magnetization at any temperature T<=T_c (this can of course be extended to T>T_c with zeros).\n",
    "        # I have not worried about m<0 yet but this should be a quick implementation by mirroring the interpolation function later on in the code.\n",
    "\n",
    "        # Start by defining a unity function m=m:\n",
    "        def mag(m):\n",
    "            return m\n",
    "\n",
    "        # Define the Brillouin function as a function of scalars, as fsolve takes functions of scalars:\n",
    "        def Brillouin(m, T):\n",
    "            # This function takes input parameters\n",
    "            #   (i) magnetization amplitude m_amp_grid (scalar)\n",
    "            #   (ii) (electron) temperature (scalar)\n",
    "            # As an output we get the Brillouin function evaluated at (i), (ii) (scalar)\n",
    "\n",
    "            eta = self.J * m / sp.k / T /self.Tc\n",
    "            c1 = (2 * self.S + 1) / (2 * self.S)\n",
    "            c2 = 1 / (2 * self.S)\n",
    "            bri_func = c1 / np.tanh(c1 * eta) - c2 / np.tanh(c2 * eta)\n",
    "            return bri_func\n",
    "\n",
    "        # Then we also need a temperature grid. I'll make it course grained for low temperatures (<0.8*Tc) (small slope) and fine grained for large temperatures (large slope):\n",
    "        temp_grid=np.array(list(np.arange(0, 0.8, 1e-3))+list(np.arange(0.8, 1+1e-5, 1e-5)))\n",
    "\n",
    "        # I will define the list of m_eq(T) here and append the solutions of m=B(m, T). It will have the length len(temp_grid) at the end.\n",
    "        meq_list=[1.]\n",
    "\n",
    "        # Define a function to find the intersection of m and B(m, T) for given T with scipy:\n",
    "        def find_intersection_sp(m, Bm, m0):\n",
    "            return op.fsolve(lambda x: m(x) - Bm(x), m0)\n",
    "\n",
    "        # Find meq for every temperature, starting point for the search being (1-T/Tc)^(1/2), fill the list\n",
    "        for i,T in enumerate(temp_grid[1:]):\n",
    "            # Redefine the Brillouin function to set the temperature parameter (I did not find a more elegant solution to this):\n",
    "            def Brillouin_2(m):\n",
    "                return Brillouin(m, T)\n",
    "            # Get meq:\n",
    "            meq=find_intersection_sp(mag, Brillouin_2, np.sqrt(1-T))\n",
    "            if meq[0]<0:            # This is a comletely unwarranted fix for values of meq<0 at temperatures very close to Tc, that fsolve produces. It seems to work though, as the interpolated function plotted by plot_mean_mags() seems clean.\n",
    "                meq[0]*=-1\n",
    "            # Append it to list me(T)\n",
    "            meq_list.append(meq[0])\n",
    "        meq_list[-1]=0              # This fixes slight computational errors to fix m_eq(Tc)=0 (it produces something like m_eq[-1]=1e-7)\n",
    "        return ip.interp1d(temp_grid, meq_list)"
   ]
  },
  {
   "cell_type": "markdown",
   "id": "1f59aceb",
   "metadata": {},
   "source": [
    "From the mean_mag_map one can easily define the derivative by temperature as well:"
   ]
  },
  {
   "cell_type": "code",
   "execution_count": null,
   "id": "255d2b11",
   "metadata": {},
   "outputs": [],
   "source": [
    "    def create_mean_mag_deriv(self):\n",
    "        # This function returns the derivative of the mean magnetization map, needed to compute the longitudinal susceptibility. This can be included in create_mean_mag_map but I seperated it for clarity.\n",
    "        temp_grid=np.array(list(np.arange(0, 0.8, 1e-3))+list(np.arange(0.8, 1+1e-5, 1e-5)))\n",
    "        temp_diff=np.diff(temp_grid)\n",
    "        return ip.interp1d(temp_grid[:-1], np.diff(self.mean_mag_map(temp_grid))/temp_diff)"
   ]
  },
  {
   "cell_type": "markdown",
   "id": "5325cc81",
   "metadata": {},
   "source": [
    "Now we define functions to read out mean_mag_map and mean_mag_deriv at given temperatures T:"
   ]
  },
  {
   "cell_type": "code",
   "execution_count": null,
   "id": "134b257a",
   "metadata": {},
   "outputs": [],
   "source": [
    "    def get_mean_mag(self, T):\n",
    "        # After creating the map, this function can be called to give m_eq at any temperature\n",
    "        # The function takes a 1d-array of temperatures as an input (temperature map at each timestep) and returns an array with the respective mean field equilibrium temperatures\n",
    "        tcmask=T<1.\n",
    "        meq=np.zeros(len(T))\n",
    "        meq[tcmask]=self.mean_mag_map(T[tcmask])\n",
    "        return meq\n",
    "\n",
    "    def get_mean_mag_deriv(self, T):\n",
    "        tcmask=T<1.\n",
    "        dmeq_dT=np.zeros(len(T))\n",
    "        dmeq_dT[tcmask]=self.mean_mag_deriv(T[tcmask])\n",
    "        return dmeq_dT"
   ]
  },
  {
   "cell_type": "markdown",
   "id": "14308b33",
   "metadata": {},
   "source": [
    "The fololwing functions alpha_par(T), alpha_trans(T) define the longitudinal and transverse damping parameters of the LLB:"
   ]
  },
  {
   "cell_type": "code",
   "execution_count": 30,
   "id": "889be63e",
   "metadata": {},
   "outputs": [],
   "source": [
    "    def alpha_par(self, T):\n",
    "        # This funtion computes the longitudinal damping parameter alpha_parallel\n",
    "        return 2*self.lamda/(self.S+1)*1/np.sinh(3*self.Tc*self.mean_mag_map(T)/(self.S+1)*T)\n",
    "\n",
    "    def alpha_trans(self, T):\n",
    "        # This function computes the transverse damping parameter alpha_transverse\n",
    "        meq=self.mean_mag_map(T)\n",
    "        qs=3*self.Tc*meq/(2*self.S+1)/T\n",
    "        return self.lamda/meq*(np.tanh(qs)/qs-T/3/self.Tc)"
   ]
  },
  {
   "cell_type": "markdown",
   "id": "654a0d3a",
   "metadata": {},
   "source": [
    "Now I define some random materials and a sample from these materials:"
   ]
  },
  {
   "cell_type": "code",
   "execution_count": 6,
   "id": "298b2eb8",
   "metadata": {},
   "outputs": [],
   "source": [
    "def get_sample():\n",
    "    # This is a dummy function that should definitely be replaced by outputs from your code. It does not take any input parameters as I define everything here.\n",
    "    # As an output we get\n",
    "    #   (i) a 1d list of M materials within the sample (materials on the scale of the grainsize of the macrospins)\n",
    "    #   (ii) a 1d numpy array of the actual sample consisting of stacked layers of the M materials\n",
    "    #   (iii-v) magnetization amplitude and angles\n",
    "\n",
    "    # Define define three dummy materials with different parameters:\n",
    "    mat_1 = material('uno', 1/2, 650., 0.01, 2.)\n",
    "    mat_2 = material('dos', 7/2, 1200., 0.015, 1.)\n",
    "    mat_3 = material('tres', 1, 300., 0.02, 1.5)\n",
    "    materials=[mat_1, mat_2, mat_3]\n",
    "\n",
    "    # Define a sample structure where 5 layers of each material build blocks that are periodically stacked 10 times (5*3*10=150=N):\n",
    "    building_block=np.concatenate((np.array([mat_1 for _ in range(5)]), np.array([mat_2 for _ in range(5)]), np.array([mat_3 for _ in range(5)])))\n",
    "    sample=np.concatenate([building_block for _ in range(10)])\n",
    "\n",
    "    #Define initial magnetization on the whole sample (for simplicity uniform) and fully magnetized along the z-axis\n",
    "    m_amp = np.ones(150)\n",
    "    m_phi = np.zeros(150)\n",
    "    m_gamma = np.zeros(150)\n",
    "    return materials, sample, m_amp, m_phi, m_gamma"
   ]
  },
  {
   "cell_type": "markdown",
   "id": "f438af9e",
   "metadata": {},
   "source": [
    "The following function "
   ]
  },
  {
   "cell_type": "code",
   "execution_count": 7,
   "id": "7ccd4597",
   "metadata": {},
   "outputs": [],
   "source": [
    "def get_mag(amp, gamma, phi):\n",
    "    # This function takes as input parameters the amplitude and angles (A1, A2, A3) and puts out a numpy array of dimension 3xN\n",
    "    # with 3 magnetization components for N unit cells\n",
    "\n",
    "    mx=amp*np.cos(gamma)*np.sin(phi)\n",
    "    my=amp*np.sin(gamma)*np.sin(phi)\n",
    "    mz=amp*np.cos(phi)\n",
    "    return(mx, my, mz)"
   ]
  },
  {
   "cell_type": "code",
   "execution_count": 8,
   "id": "76af2264",
   "metadata": {},
   "outputs": [],
   "source": [
    "def plot_mean_mags(materials):\n",
    "    #define a temperature grid:\n",
    "    temps=np.arange(0,2+1e-4, 1e-4)\n",
    "    temps[-1]=1.\n",
    "    for i,m in enumerate(materials):\n",
    "        mmag=m.get_mean_mag(temps)\n",
    "        label=str(m)\n",
    "        plt.plot(temps*m.Tc, mmag, label=label)\n",
    "\n",
    "    plt.xlabel(r'Temperature [K]', fontsize=16)\n",
    "    plt.ylabel(r'$m_{\\rm{eq}}$', fontsize=16)\n",
    "    plt.legend(fontsize=14)\n",
    "    plt.title(r'$m_{\\rm{eq}}$ for all materials in sample', fontsize=18)\n",
    "    plt.savefig('plots/meqtest.pdf')\n",
    "    plt.show()"
   ]
  },
  {
   "cell_type": "code",
   "execution_count": 10,
   "id": "0e55a73c",
   "metadata": {},
   "outputs": [],
   "source": [
    "def plot_mean_mag_derivs(materials):\n",
    "    #define a temperature grid:\n",
    "    temps=np.arange(0,2+1e-4, 1e-4)\n",
    "    temps[-1]=1.\n",
    "    for i,m in enumerate(materials):\n",
    "        dTmmag=m.get_mean_mag_deriv(temps)\n",
    "        label=str(m)\n",
    "        plt.plot(temps*m.Tc, dTmmag, label=label)\n",
    "\n",
    "    plt.xlabel(r'Temperature [K]', fontsize=16)\n",
    "    plt.ylabel(r'$\\partial_Tm_{\\rm{eq}}$', fontsize=16)\n",
    "    plt.legend(fontsize=14)\n",
    "    plt.title(r'Derivative of $m_{\\rm{eq}}$ for all materials in sample', fontsize=18)\n",
    "    plt.savefig('plots/dmeqdTtest.pdf')\n",
    "    plt.show()"
   ]
  },
  {
   "cell_type": "code",
   "execution_count": 20,
   "id": "4a84c2e1",
   "metadata": {},
   "outputs": [],
   "source": [
    "materials, sample, m_amp, m_phi, m_gamma=get_sample()"
   ]
  },
  {
   "cell_type": "code",
   "execution_count": null,
   "id": "9de98e9b",
   "metadata": {},
   "outputs": [],
   "source": [
    "def get_exch_coup_sam(materials, sample):\n",
    "    # This function takes as input parameters:\n",
    "    #   (i) the 1d-list of magnetic unique materials in the sample (size M)\n",
    "    #   (ii) the 1d numpy array of the sample, consisting of a material (from class material) at each grain (size N)\n",
    "    # As an output we get a 2d numpy array of dimension Nx2 for coupling each site with its 2 neighbours in the linear chain of grains. I will define the output array here:\n",
    "    ex_coup_arr=np.zeros((len(sample),2))\n",
    "\n",
    "    # Define a matrix J_mat of dimension len(materials)xlen(materials) with the exchange coupling constants of mat_i and mat_j at J_mat[i][j]=J_mat[j][i]\n",
    "    J_mat=np.zeros((len(materials), len(materials)))\n",
    "    # fill the diagonal with the mean field exchange constant of each material:\n",
    "    for i, mat in enumerate(materials):\n",
    "        J_mat[i][i]=mat.J\n",
    "    # define the off-diagonals, namely some values for exchange coupling constants of different materials:\n",
    "    J_mat[0][1]=1e-20\n",
    "    J_mat[1][2]=5e-20\n",
    "    J_mat[0][2]=1e-19\n",
    "    # symmetrize the matrix so that also elements [i][j] with i>j can be read out:\n",
    "    for i in range(1,len(materials)):\n",
    "        for j in range(i):\n",
    "            J_mat[i][j]=J_mat[j][i]\n",
    "\n",
    "    # Now we can assign the coupling of each grain to its nearest neighbours by filling the output array with the respective matrix entry:\n",
    "    # For this I fill a list with the indices of the respective materials:\n",
    "    mat_indices=[materials.index(grain) for grain in sample]\n",
    "    # This list can assign the proper matrix elements to the output matrix\n",
    "    for i, grain in enumerate(sample):\n",
    "        if i>0:\n",
    "            ex_coup_arr[i][0]=J_mat[mat_indices[i]][mat_indices[i-1]]\n",
    "        if i<len(sample)-1:\n",
    "            ex_coup_arr[i][1]=J_mat[mat_indices[i]][mat_indices[i+1]]\n",
    "    return ex_coup_arr"
   ]
  },
  {
   "cell_type": "code",
   "execution_count": 18,
   "id": "f03a74d9",
   "metadata": {},
   "outputs": [],
   "source": [
    "exch_coup_const=get_exch_coup_sam(materials, sample)"
   ]
  },
  {
   "cell_type": "code",
   "execution_count": null,
   "id": "a30c1ab4",
   "metadata": {},
   "outputs": [],
   "source": []
  }
 ],
 "metadata": {
  "kernelspec": {
   "display_name": "Python 3",
   "language": "python",
   "name": "python3"
  },
  "language_info": {
   "codemirror_mode": {
    "name": "ipython",
    "version": 3
   },
   "file_extension": ".py",
   "mimetype": "text/x-python",
   "name": "python",
   "nbconvert_exporter": "python",
   "pygments_lexer": "ipython3",
   "version": "3.8.10"
  }
 },
 "nbformat": 4,
 "nbformat_minor": 5
}
