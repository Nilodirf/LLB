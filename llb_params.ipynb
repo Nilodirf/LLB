{
 "cells": [
  {
   "cell_type": "markdown",
   "id": "f5343db9",
   "metadata": {
    "tags": []
   },
   "source": [
    "# LLB parameter implementation"
   ]
  },
  {
   "cell_type": "code",
   "execution_count": 1,
   "id": "89486d44",
   "metadata": {},
   "outputs": [],
   "source": [
    "import numpy as np\n",
    "from scipy import constants as sp\n",
    "from scipy import optimize as op\n",
    "from scipy import interpolate as ip\n",
    "from matplotlib import pyplot as plt"
   ]
  },
  {
   "cell_type": "markdown",
   "id": "2cd3d85e",
   "metadata": {
    "tags": []
   },
   "source": [
    "## (Magnetic) material class"
   ]
  },
  {
   "cell_type": "markdown",
   "id": "96d775b3-dd8e-4870-99b6-ef980eb4f5c4",
   "metadata": {},
   "source": [
    "I define a class that should compute and hold all the relevant parameters needed for the LLB computation. This class holds only material-specific parameters, while interactions between different materials should be defined and imported from the Structure class."
   ]
  },
  {
   "cell_type": "code",
   "execution_count": 2,
   "id": "8b03fc2f",
   "metadata": {},
   "outputs": [],
   "source": [
    "class material():\n",
    "    def __init__(self, name, S, Tc, lamda, muat, kappa_anis, K_0, A_0):\n",
    "        self.name=name                                      # name of the material used for the string representation of the class\n",
    "        self.S=S                                            # effective spin\n",
    "        self.Tc=Tc                                          # Curie temperature\n",
    "        self.J=3*self.S/(self.S+1)*sp.k*self.Tc             # mean field exchange coupling constant\n",
    "        self.mean_mag_map=create_mean_mag_map(self)         # creates the mean magnetization map over temperature as an interpolation function\n",
    "        self.brillouin_deriv=create_brillouin_deriv(self)     # creates the mean magnetization derivative of temperature as an interpolation function\n",
    "        self.lamda=lamda                                    # intrinsic coupling to bath parameter\n",
    "        self.muat=muat                                      # atomic magnetic moment\n",
    "        self.kappa_anis=kappa_anis                          # exponent for the temperature dependence of uniaxial anisotropy\n",
    "        self.K_0=K_0                                        # value for the anisotropy at T=0 K in units of J\n",
    "        self.A_0=A_0                                        # value for the exchange stiffness at T=0 K in units of J*m^2"
   ]
  },
  {
   "cell_type": "code",
   "execution_count": 3,
   "id": "e2e61949",
   "metadata": {},
   "outputs": [],
   "source": [
    "    def __str__(self):\n",
    "        return self.name"
   ]
  },
  {
   "cell_type": "markdown",
   "id": "10bc9ddc",
   "metadata": {
    "tags": []
   },
   "source": [
    "### Creation of the mean magnetization map"
   ]
  },
  {
   "cell_type": "markdown",
   "id": "342d2991-e019-4cf8-8ade-8b096811fc81",
   "metadata": {},
   "source": [
    "Here a temperature map of the mean field magnetization $m_{eq}(T)$ is created.\n",
    "This means solving the self consistent equation\n",
    "\n",
    "\\begin{eqnarray}\n",
    "    m_{eq}(T)&=&B_S(m_{eq}, T) \\label{meq_def} \\\\\n",
    "    B_S(m, T)&=& \\frac{2 S+1}{2S} \\coth{(\\frac{2S+1}{2S}\\frac{\\text{self.}Jm}{k_BT})}-\\frac{1}{2S} \\coth{(\\frac{1}{2S} \\frac{\\text{self.}Jm}{k_B T})} \\label{Brillouin},\n",
    "\\end{eqnarray}\n",
    "\n",
    "where\n",
    "\n",
    "\\begin{align}\n",
    "\\text{self.}J=3\\frac{S}{S+1}k_B \\ \\text{self.}T_C\n",
    "\\end{align}\n",
    "\n",
    "is the mean field exchange coupling constant for effective spin self.$S$ and Curie temperature self.$T_C$"
   ]
  },
  {
   "cell_type": "code",
   "execution_count": 4,
   "id": "1778a430",
   "metadata": {},
   "outputs": [],
   "source": [
    "    def create_mean_mag_map(self):\n",
    "        # This function computes the mean field mean magnetization map by solving the self-consistent equation m=B(m, T)\n",
    "        # As an output we get an interpolation function of the mean field magnetization at any temperature T<=T_c (this can of course be extended to T>T_c with zeros).\n",
    "        # I have not worried about m<0 yet but this should be a quick implementation by mirroring the interpolation function later on in the code.\n",
    "\n",
    "        # Start by defining a unity function m=m:\n",
    "        def mag(m):\n",
    "            return m\n",
    "\n",
    "        # Define the Brillouin function as a function of scalars, as fsolve takes functions of scalars:\n",
    "        def Brillouin(m, T):\n",
    "            # This function takes input parameters\n",
    "            #   (i) magnetization amplitude m_amp_grid (scalar)\n",
    "            #   (ii) (electron) temperature (scalar)\n",
    "            # As an output we get the Brillouin function evaluated at (i), (ii) (scalar)\n",
    "\n",
    "            eta = self.J * m / sp.k / T /self.Tc\n",
    "            c1 = (2 * self.S + 1) / (2 * self.S)\n",
    "            c2 = 1 / (2 * self.S)\n",
    "            bri_func = c1 / np.tanh(c1 * eta) - c2 / np.tanh(c2 * eta)\n",
    "            return bri_func\n",
    "\n",
    "        # Then we also need a temperature grid. I'll make it course grained for low temperatures (<0.8*Tc) (small slope) and fine grained for large temperatures (large slope):\n",
    "        temp_grid=np.array(list(np.arange(0, 0.8, 1e-3))+list(np.arange(0.8, 1+1e-5, 1e-5)))\n",
    "\n",
    "        # I will define the list of m_eq(T) here and append the solutions of m=B(m, T). It will have the length len(temp_grid) at the end.\n",
    "        meq_list=[1.]\n",
    "\n",
    "        # Define a function to find the intersection of m and B(m, T) for given T with scipy:\n",
    "        def find_intersection_sp(m, Bm, m0):\n",
    "            return op.fsolve(lambda x: m(x) - Bm(x), m0)\n",
    "\n",
    "        # Find meq for every temperature, starting point for the search being (1-T/Tc)^(1/2), fill the list\n",
    "        for i,T in enumerate(temp_grid[1:]):\n",
    "            # Redefine the Brillouin function to set the temperature parameter (I did not find a more elegant solution to this):\n",
    "            def Brillouin_2(m):\n",
    "                return Brillouin(m, T)\n",
    "            # Get meq:\n",
    "            meq=find_intersection_sp(mag, Brillouin_2, np.sqrt(1-T))\n",
    "            if meq[0]<0:            # This is a comletely unwarranted fix for values of meq<0 at temperatures very close to Tc, that fsolve produces. It seems to work though, as the interpolated function plotted by plot_mean_mags() seems clean.\n",
    "                meq[0]*=-1\n",
    "            # Append it to list me(T)\n",
    "            meq_list.append(meq[0])\n",
    "        meq_list[-1]=0              # This fixes slight computational errors to fix m_eq(Tc)=0 (it produces something like m_eq[-1]=1e-7)\n",
    "        return ip.interp1d(temp_grid, meq_list)"
   ]
  },
  {
   "cell_type": "markdown",
   "id": "5cb39c84-ab8a-4fc1-85b3-c69b072fc76a",
   "metadata": {
    "tags": []
   },
   "source": [
    "### Creation of the map of derivative of the Brillouin function"
   ]
  },
  {
   "cell_type": "markdown",
   "id": "1f59aceb",
   "metadata": {},
   "source": [
    "To later define the longitudinal suszeptibility, we need to define the derivative of the Brillouin function. To speed up the simulation, we also create a map thereof:\n",
    "\n",
    "\\begin{align}\n",
    "\\frac{dB}{dx} = \\frac{1}{4S^2\\sinh^2(x/2S)}-\\frac{(2S+1)^2}{4S^2\\sinh^2(\\frac{(2S+1)x}{2S})}, \n",
    "\\end{align}\n",
    "\n",
    "where $x=\\frac{Jm}{k_BT}$.\n",
    "\n",
    "Thus we define a grid on the scale $x \\in [0,50]$ and create an interpolation function of the equation on this grid."
   ]
  },
  {
   "cell_type": "code",
   "execution_count": 5,
   "id": "255d2b11",
   "metadata": {},
   "outputs": [],
   "source": [
    "    def create_brillouin_deriv(self):\n",
    "        # This function returns the derivative of the Brillouin function, needed to compute the longitudinal susceptibility.\n",
    "        etagrid=np.array(list(np.arange(0,20,1e-5))+list(np.arange(20,50,1e-3)))\n",
    "        c1=(2*self.S+1)/2/self.S\n",
    "        c2=1/2/self.S\n",
    "        return ip.interp1d(etagrid, c2**2/(np.sinh(c2*etagrid))**2-c1**2/(np.sinh(c1*etagrid))**2)"
   ]
  },
  {
   "cell_type": "markdown",
   "id": "d918d494-ce90-4182-b83c-e322173fe366",
   "metadata": {
    "tags": []
   },
   "source": [
    "### Calling the mean field magnetization and Brillouin derivative"
   ]
  },
  {
   "cell_type": "markdown",
   "id": "5325cc81",
   "metadata": {},
   "source": [
    "In the __init()__ function, the maps of mean field magnetization and derivative of Brillouin function are called and saved with create_ functions. To call use these maps for any array of temperatures we define the get_ functions. "
   ]
  },
  {
   "cell_type": "code",
   "execution_count": 6,
   "id": "134b257a",
   "metadata": {},
   "outputs": [],
   "source": [
    "    def get_mean_mag(self, T):\n",
    "        # After creating the map, this function can be called to give m_eq at any temperature\n",
    "        # The function takes a 1d-array of temperatures as an input (temperature map at each timestep) and returns an array with the respective mean field equilibrium temperatures\n",
    "        tcmask=T<1.\n",
    "        meq=np.zeros(len(T))\n",
    "        meq[tcmask]=self.mean_mag_map(T[tcmask])\n",
    "        return meq"
   ]
  },
  {
   "cell_type": "code",
   "execution_count": 7,
   "id": "c06d789e-6155-47ee-8f0e-bac35cbe75a5",
   "metadata": {},
   "outputs": [],
   "source": [
    "    def get_brillouin_deriv(self):\n",
    "        tcmask=T<1.\n",
    "        dbri=np.zeros(len(T))\n",
    "        dbri[tcmask]=self.brillouin_deriv(T[tcmask])\n",
    "        return dbri"
   ]
  },
  {
   "cell_type": "markdown",
   "id": "14308b33",
   "metadata": {},
   "source": [
    "### Temperature dependent parameters"
   ]
  },
  {
   "cell_type": "markdown",
   "id": "be18c309-1070-473a-9a01-b5106f557f1b",
   "metadata": {},
   "source": [
    "#### Transverse and longitudinal damping parameters"
   ]
  },
  {
   "cell_type": "markdown",
   "id": "d7fdf949-e4dd-406c-b018-369b7af8a1b7",
   "metadata": {},
   "source": [
    "Here we define functions of temperature T that return the damping parameters of the LLB:\n",
    "\n",
    "\\begin{eqnarray}\n",
    "\\alpha_{\\parallel} &=& \\frac{2\\lambda}{S+1}\\frac{1}{\\sinh(2q_s)}\\\\\n",
    "\\alpha_{\\perp} &=& \\frac{\\lambda}{m_{eq}(T)}(\\frac{\\tanh(q_s)}{q_s}-\\frac{T}{T_C}),\n",
    "\\end{eqnarray}\n",
    "\n",
    "where\n",
    "\n",
    "\\begin{align}\n",
    "q_s=\\frac{3 T_C m_{eq}(T)}{(2S+1)T}\n",
    "\\end{align}\n",
    "\n",
    "$m_{eq}(T)$ is an argument of the function as get_mean_mag() will be called at every timestep before calling the functions for temperature dependent parameters."
   ]
  },
  {
   "cell_type": "code",
   "execution_count": 8,
   "id": "889be63e",
   "metadata": {},
   "outputs": [],
   "source": [
    "    def alpha_par(self, T, meq):\n",
    "        # This funtion computes the longitudinal damping parameter alpha_parallel\n",
    "        return 2*self.lamda/(self.S+1)*1/np.sinh(3*self.Tc*meq/(self.S+1)*T)\n",
    "\n",
    "    def alpha_trans(self, T, meq):\n",
    "        # This function computes the transverse damping parameter alpha_transverse\n",
    "        qs=3*self.Tc*meq/(2*self.S+1)/T\n",
    "        return self.lamda/meq*(np.tanh(qs)/qs-T/3/self.Tc)"
   ]
  },
  {
   "cell_type": "markdown",
   "id": "1928def4-bb74-4bb9-a467-64db7f97ef0b",
   "metadata": {},
   "source": [
    "#### Longitudinal Susceptibility"
   ]
  },
  {
   "cell_type": "markdown",
   "id": "c16e6ad6-5b6a-4cb1-aae8-e251f1ab2e31",
   "metadata": {},
   "source": [
    "The longitudinal susceptibility in MFA is expressed as\n",
    "\n",
    "\\begin{align}\n",
    "\\chi_{\\parallel}=\\frac{\\beta \\mu_{\\rm{at}} B_S'(m_{eq},T)}{1-\\beta J B_S'(m_{eq}, T)}\n",
    "\\end{align}"
   ]
  },
  {
   "cell_type": "code",
   "execution_count": 9,
   "id": "b7e0416f-4bdb-4e82-aec8-4633d01a0fe2",
   "metadata": {},
   "outputs": [],
   "source": [
    "    def chi_par(self, Bs_prime, T):\n",
    "        return 1/sp.k/T*self.muat*Bs_prime/(1-1/sp.k/T*self.J*Bs_prime)"
   ]
  },
  {
   "cell_type": "markdown",
   "id": "f091dc70-9c9e-46fd-870b-debf6de1cdbe",
   "metadata": {},
   "source": [
    "#### Uniaxial Anisotropy strength"
   ]
  },
  {
   "cell_type": "markdown",
   "id": "b6a0fc17-5fa1-43b0-8eeb-605110d77b60",
   "metadata": {},
   "source": [
    "The uniaxial anisotropy field along of grain i along the easy (m,n,o)-axis is expressed in the form.\n",
    "\n",
    "\\begin{align}\n",
    "\\mathbf{H}_{i,A_m}=-\\frac{2 K_i(T)}{\\mu_{at}} \\frac{\\left( m_{i,n}^2 + m_{i,o}^2 \\right)}{m_i^2},\n",
    "\\end{align}\n",
    "\n",
    "where $K_i(T)=K_0 \\ m_{eq}(T)^{\\kappa}$ scales in a power law with the equilibrium magnetization, $\\kappa$ being a material parameter. Here, only the temperature-indipendent but material_dependent part of the prefactor is computed. This is done, so that later when the sample-structure und temperature profile are defined, the corresponding field for the whole sample can be computed with minimal computational effort (I hope and think so at least). What we thus do here is to compute\n",
    "\n",
    "\\begin{align}\n",
    "    E_{0,anis}=\\frac{2K_0}{\\mu_{at}}\n",
    "\\end{align}"
   ]
  },
  {
   "cell_type": "code",
   "execution_count": 10,
   "id": "8428f5a6-85b8-4de6-bc53-db2fc0857b40",
   "metadata": {},
   "outputs": [],
   "source": [
    "    def anisotropy(self, meq, m, m_amps, ax):\n",
    "        #This takes mean field magnetization (1d-array of length N (number of grains)), magnetization vectors (dimension 3xN), magnetization amplitudes (length N) and easy axis ([0,1,2] corresponding to [x,y,z])\n",
    "        mag_hard_ax_squared=np.sum(np.delete(m, ax, axis=0)**2, axis=0)\n",
    "        return -2*self.K_0*meq**self.kappa_anis/self.muat*mag_hard_ax_squared/m_amps**2"
   ]
  },
  {
   "cell_type": "markdown",
   "id": "2426e362-fff0-45b2-972a-3c22edde7600",
   "metadata": {},
   "source": [
    "#### Exchange stiffness"
   ]
  },
  {
   "cell_type": "markdown",
   "id": "d05f2508-8762-4fca-a5a1-83bfc380116f",
   "metadata": {},
   "source": [
    "The exchange field is expressed by\n",
    "\n",
    "\\begin{align}\n",
    "H_{i,ex}=\\frac{2A(T)}{m_e^2 \\Delta^2} \\sum_{j \\ neighb \\ i} (m_j-m_i),\n",
    "\\end{align}\n",
    "\n",
    "where $A(T)=A_0 m_{eq}(T)^2$ is the temperature dependent exchange stiffness and $\\Delta$ is the dimension of the cubic magnetic grains. Again, we only compute the temperatureprefactor here. At this point there is nothing to compute here, this block serves only for documentation. \\textcolor{red}{Whats the best way to define grain size in the code?}"
   ]
  },
  {
   "cell_type": "markdown",
   "id": "654a0d3a",
   "metadata": {
    "tags": []
   },
   "source": [
    "## Creating some sample structure"
   ]
  },
  {
   "cell_type": "markdown",
   "id": "fead8e22-382e-4626-9039-4f0b78a432d9",
   "metadata": {},
   "source": [
    "Apart from defining all the necessary fields and material parameters, the most important part is to properly define the sample structure and simplify computation of the magnetic fields for any given sample. For this, we define a rather complicated sample-composition in the following function get_sample(), consisting of three different 'materials' (defined on the grainsize of the micromagnetic simulation, so some nm in thickness) with different magnetic properties and respective interface properties, that need to be defined in the following. Apart from only the sample-structure, we retrieve also the magnetization coordinates of every magnetic grain, and the positions (indices of the 1d array that defines the sample of magnetic grains) of each of the material. This will help to later call the functions within the material class on an array that contains all magnetic grains of each material.\n",
    "\n",
    "Example: Sample consists of three materials in the following order:\n",
    "\n",
    "\\begin{align}\n",
    "[mat1, mat2, mat3, mat3, mat1]\n",
    "\\end{align}\n",
    "\n",
    "material_grain_indices is a list of M lists (M=number of different materials in the sample), with each of the M lists containing the indices of all positions of this material, so:\n",
    "\n",
    "\\begin{align}\n",
    "\\text{material_grain_indices}=[[0,4],[1],[2,3]]\n",
    "\\end{align}\n",
    "\n",
    "material_grain_indices_flat is merely the flattened version of it, which can be used to reordering the computation results in the same order as the sample again."
   ]
  },
  {
   "cell_type": "code",
   "execution_count": 11,
   "id": "298b2eb8",
   "metadata": {
    "tags": []
   },
   "outputs": [],
   "source": [
    "def get_sample():\n",
    "    # This is a dummy function that should definitely be replaced by outputs from your code. It does not take any input parameters as I define everything here.\n",
    "    # As an output we get\n",
    "    #   (i) a 1d list of M materials within the sample (materials on the scale of the grainsize of the macrospins)\n",
    "    #   (ii) a 1d numpy array of the actual sample consisting of stacked layers of the M materials\n",
    "    #   (iii-v) magnetization amplitudes and angles\n",
    "    \n",
    "    # Define define three dummy materials with different parameters:\n",
    "    mat_1 = material('uno', 1/2, 650., 0.01, 2., 1.6, 1.5e6, 1e-3)\n",
    "    mat_2 = material('dos', 7/2, 1200., 0.015, 1., 1.6, 1.7e6, 1e-3)\n",
    "    mat_3 = material('tres', 1, 300., 0.02, 1.5, 1.6, 2.2e6, 1e-3)\n",
    "    materials=[mat_1, mat_2, mat_3]\n",
    "\n",
    "    # Define a sample structure where 5 layers of each material build blocks that are periodically stacked 10 times (5*3*10=150=N):\n",
    "    building_block=np.concatenate((np.array([mat_1 for _ in range(5)]), np.array([mat_2 for _ in range(5)]), np.array([mat_3 for _ in range(5)])))\n",
    "    sample=np.concatenate([building_block for _ in range(10)])\n",
    "    \n",
    "    #The following constructs a list of lists, containing in list[i] a list of indices of material i in the sample_structure. This will help compute the mean field magnetization only once for every material at each timestep. \n",
    "    material_grain_indices=[]\n",
    "    for mat in materials:\n",
    "        material_grain_indices.append([i for i in range(len(sample)) if sample[i]==mat])\n",
    "    material_grain_indices_flat=[index for mat_list in material_grain_indices for index in mat_list]\n",
    "    \n",
    "    #The following list locates which material is positioned at which grain of the sample. THis will later be used to define an array of material paramters for the whole sample \n",
    "    mat_locator=[materials.index(grain) for grain in sample]\n",
    "\n",
    "    #Define initial magnetization on the whole sample (for simplicity uniform) and fully magnetized along the z-axis\n",
    "    m_amp = np.ones(150)\n",
    "    m_phi = np.zeros(150)\n",
    "    m_gamma = np.zeros(150)\n",
    "    return materials, sample, m_amp, m_phi, m_gamma, material_grain_indices, material_grain_indices_flat, mat_locator"
   ]
  },
  {
   "cell_type": "code",
   "execution_count": 12,
   "id": "95acff59-480a-49c9-a8de-32c0aba580af",
   "metadata": {},
   "outputs": [
    {
     "name": "stdout",
     "output_type": "stream",
     "text": [
      "[[0, 3, 4], [1], [2]]\n",
      "[0, 1, 2, 3, 4]\n"
     ]
    }
   ],
   "source": [
    "arr=[1,2,3,1,1]\n",
    "grain_ind=[]\n",
    "for num in range(1,4):\n",
    "    grain_ind.append([i for i in range(len(arr)) if arr[i]==num])\n",
    "print(grain_ind)\n",
    "\n",
    "ind_flat=[item for sub_list in grain_ind for item in sub_list]\n",
    "ind_order=[ind_flat[i] for i in ind_flat]\n",
    "print(ind_order)"
   ]
  },
  {
   "cell_type": "markdown",
   "id": "f438af9e",
   "metadata": {
    "tags": []
   },
   "source": [
    "### Creating magnetization vectors"
   ]
  },
  {
   "cell_type": "code",
   "execution_count": 13,
   "id": "7ccd4597",
   "metadata": {},
   "outputs": [],
   "source": [
    "def get_mag(amp, gamma, phi):\n",
    "    # This function takes as input parameters the amplitude and angles (A1, A2, A3) and puts out a numpy array of dimension 3xN\n",
    "    # with 3 magnetization components for N grains\n",
    "\n",
    "    mx=amp*np.cos(gamma)*np.sin(phi)\n",
    "    my=amp*np.sin(gamma)*np.sin(phi)\n",
    "    mz=amp*np.cos(phi)\n",
    "    return(mx, my, mz)"
   ]
  },
  {
   "cell_type": "markdown",
   "id": "f4ed8d47-aa5d-461f-b142-9a0419edfb83",
   "metadata": {
    "tags": []
   },
   "source": [
    "### Plotting functions for the $m_{eq}(T)$ maps"
   ]
  },
  {
   "cell_type": "markdown",
   "id": "66b79a15-6458-4aa8-afad-b46c3bf9c2c5",
   "metadata": {},
   "source": [
    "This should really work for any sample preperation. Just to visualize the output of mean field magnetization for different parameters, being spin and critical temperature"
   ]
  },
  {
   "cell_type": "code",
   "execution_count": 14,
   "id": "76af2264",
   "metadata": {},
   "outputs": [],
   "source": [
    "def plot_mean_mags(materials, save=False):\n",
    "    #define a temperature grid:\n",
    "    temps=np.arange(0,2+1e-4, 1e-4)\n",
    "    temps[-1]=1.\n",
    "    for i,m in enumerate(materials):\n",
    "        mmag=get_mean_mag(m, temps)\n",
    "        label=str(m.name)\n",
    "        plt.plot(temps*m.Tc, mmag, label=label)\n",
    "\n",
    "    plt.xlabel(r'Temperature [K]', fontsize=16)\n",
    "    plt.ylabel(r'$m_{\\rm{eq}}$', fontsize=16)\n",
    "    plt.legend(fontsize=14)\n",
    "    if save:\n",
    "        plt.title(r'$m_{\\rm{eq}}$ for all materials in sample', fontsize=18)\n",
    "    plt.savefig('plots/meqtest.pdf')\n",
    "    plt.show()"
   ]
  },
  {
   "cell_type": "code",
   "execution_count": 15,
   "id": "0e55a73c",
   "metadata": {},
   "outputs": [],
   "source": [
    "def plot_mean_mag_derivs(materials, save=False):\n",
    "    #define a temperature grid:\n",
    "    temps=np.arange(0,2+1e-4, 1e-4)\n",
    "    temps[-1]=1.\n",
    "    for i,m in enumerate(materials):\n",
    "        dTmmag=get_brillouin_deriv(m, temps)\n",
    "        label=str(m.name)\n",
    "        plt.plot(temps*m.Tc, dTmmag, label=label)\n",
    "\n",
    "    plt.xlabel(r'Temperature [K]', fontsize=16)\n",
    "    plt.ylabel(r'$\\partial_Tm_{\\rm{eq}}$ [1/K]', fontsize=16)\n",
    "    plt.legend(fontsize=14)\n",
    "    if save:\n",
    "        plt.title(r'Derivative of $m_{\\rm{eq}}$ for all materials in sample', fontsize=18)\n",
    "    plt.savefig('plots/dmeqdTtest.pdf')\n",
    "    plt.show()"
   ]
  },
  {
   "cell_type": "code",
   "execution_count": 16,
   "id": "4a84c2e1",
   "metadata": {},
   "outputs": [
    {
     "name": "stderr",
     "output_type": "stream",
     "text": [
      "C:\\Users\\Theodor Griepe\\AppData\\Local\\Programs\\Python\\Python311\\Lib\\site-packages\\scipy\\optimize\\_minpack_py.py:175: RuntimeWarning: The iteration is not making good progress, as measured by the \n",
      "  improvement from the last ten iterations.\n",
      "  warnings.warn(msg, RuntimeWarning)\n",
      "C:\\Users\\Theodor Griepe\\AppData\\Local\\Temp\\ipykernel_6396\\3347895553.py:6: RuntimeWarning: divide by zero encountered in divide\n",
      "  return ip.interp1d(etagrid, c2**2/(np.sinh(c2*etagrid))**2-c1**2/(np.sinh(c1*etagrid))**2)\n",
      "C:\\Users\\Theodor Griepe\\AppData\\Local\\Temp\\ipykernel_6396\\3347895553.py:6: RuntimeWarning: invalid value encountered in subtract\n",
      "  return ip.interp1d(etagrid, c2**2/(np.sinh(c2*etagrid))**2-c1**2/(np.sinh(c1*etagrid))**2)\n"
     ]
    },
    {
     "name": "stdout",
     "output_type": "stream",
     "text": [
      "[0, 0, 0, 0, 0, 1, 1, 1, 1, 1, 2, 2, 2, 2, 2, 0, 0, 0, 0, 0, 1, 1, 1, 1, 1, 2, 2, 2, 2, 2, 0, 0, 0, 0, 0, 1, 1, 1, 1, 1, 2, 2, 2, 2, 2, 0, 0, 0, 0, 0, 1, 1, 1, 1, 1, 2, 2, 2, 2, 2, 0, 0, 0, 0, 0, 1, 1, 1, 1, 1, 2, 2, 2, 2, 2, 0, 0, 0, 0, 0, 1, 1, 1, 1, 1, 2, 2, 2, 2, 2, 0, 0, 0, 0, 0, 1, 1, 1, 1, 1, 2, 2, 2, 2, 2, 0, 0, 0, 0, 0, 1, 1, 1, 1, 1, 2, 2, 2, 2, 2, 0, 0, 0, 0, 0, 1, 1, 1, 1, 1, 2, 2, 2, 2, 2, 0, 0, 0, 0, 0, 1, 1, 1, 1, 1, 2, 2, 2, 2, 2]\n"
     ]
    }
   ],
   "source": [
    "materials, sample, m_amp, m_phi, m_gamma, mat_gr_ind, mat_gr_ind_flat, mat_loc=get_sample()\n",
    "print(mat_loc)"
   ]
  },
  {
   "cell_type": "code",
   "execution_count": 17,
   "id": "9f7ec11c-d5a6-4c8a-93e3-fb7f26de4560",
   "metadata": {
    "tags": []
   },
   "outputs": [
    {
     "data": {
      "image/png": "[encoded data removed]",
      "text/plain": [
       "<Figure size 640x480 with 1 Axes>"
      ]
     },
     "metadata": {},
     "output_type": "display_data"
    }
   ],
   "source": [
    "plot_mean_mags(materials)"
   ]
  },
  {
   "cell_type": "markdown",
   "id": "a4b3935d-4f1b-437c-a354-114017329d0c",
   "metadata": {
    "tags": []
   },
   "source": [
    "## Functions applied on the complete sample structure before the dynamical simulation"
   ]
  },
  {
   "cell_type": "markdown",
   "id": "2603bce5-7be3-4294-9d20-5b4f5eee2835",
   "metadata": {},
   "source": [
    "### Matrix of coupling constants an construction of exchange (coupling and stiffness) array"
   ]
  },
  {
   "cell_type": "markdown",
   "id": "3f9e0cb8-64bb-477e-80a0-a46dcd64d8fd",
   "metadata": {},
   "source": [
    "The follwoing peace of code defines a symmetric matrix of dimension len(materials)xlen(materials) (here three, indices a,b,c) between potential neighbouring grains with indices i,j\n",
    "\n",
    "\\begin{align}\n",
    "    \\mathcal{J}_{ij}= \\left( \\begin{matrix}J_{aa} \\ J_{ab} \\ J_{ac} \\\\ J_{ba} \\ J_{bb} \\ J_{cb} \\\\ J_{ca} \\ J_{cb} \\ J_{cc}\\end{matrix} \\right),\n",
    "\\end{align}\n",
    "\n",
    "where $J_{lk}=J_{kl}$ for $k,l \\in [a,b,c]$ \n",
    "and $J_{ll}=3 \\frac{l.S}{l.S+1} k_B \\ l.T_C$ is just the mean field exchange coupling constant for material $l$.\n",
    "\n",
    "Now one can fill the array exch_coup_arr with the respective coupling constants of neighbouring grains as defined in sample. \n",
    "For a sample of five grains\n",
    "\n",
    "$[mat1, mat2, mat3, mat3, mat1]$\n",
    "\n",
    "this would produce\n",
    "\n",
    "$[[0, J_{12}],[J_{21}, J_{23}],[J_{32}, J_{33}],[J_{33}, J_{31}],[J_{31}, 0]]$\n",
    "\n",
    "This function just needs to be called once to create the proper interaction array for the simulated sample."
   ]
  },
  {
   "cell_type": "code",
   "execution_count": 18,
   "id": "051c88b7-08e1-4ab5-889f-eb2941dfd153",
   "metadata": {},
   "outputs": [],
   "source": [
    "def get_exch_coup_sam(materials, sample, mat_loc):\n",
    "    # This function takes as input parameters:\n",
    "    #   (i) the 1d-list of magnetic unique materials in the sample (size M)\n",
    "    #   (ii) the 1d numpy array of the sample, consisting of a material (from class material) at each grain (size N)\n",
    "    # As an output we get a 2d numpy array of dimension Nx2 for coupling each site with its 2 neighbours in the linear chain of grains.\n",
    "\n",
    "    # Define a matrix J_mat of dimension len(materials)xlen(materials) with the exchange coupling constants of mat_i and mat_j at J_mat[i][j]=J_mat[j][i]\n",
    "    J_mat=np.zeros((len(materials), len(materials)))\n",
    "    # fill the diagonal with the mean field exchange constant of each material:\n",
    "    for i, mat in enumerate(materials):\n",
    "        J_mat[i][i]=mat.J\n",
    "    # define the off-diagonals, namely some values for exchange coupling constants of different materials:\n",
    "    J_mat[0][1]=1e-20\n",
    "    J_mat[1][2]=5e-20\n",
    "    J_mat[0][2]=1e-19\n",
    "    # symmetrize the matrix so that also elements [i][j] with i>j can be read out:\n",
    "    for i in range(1,len(materials)):\n",
    "        for j in range(i):\n",
    "            J_mat[i][j]=J_mat[j][i]\n",
    "\n",
    "    # Now we can assign the coupling of each grain to its nearest neighbours by filling the output array with the respective matrix entry:\n",
    "    # Let's define the output array:\n",
    "    ex_coup_arr=np.zeros((len(sample),2))\n",
    "    \n",
    "    # This list can assign the proper matrix elements to the output matrix\n",
    "    for i, grain in enumerate(sample):\n",
    "        if i>0:\n",
    "            ex_coup_arr[i][0]=J_mat[mat_loc[i]][mat_loc[i-1]]\n",
    "        if i<len(sample)-1:\n",
    "            ex_coup_arr[i][1]=J_mat[mat_loc[i]][mat_loc[i+1]]\n",
    "    return ex_coup_arr"
   ]
  },
  {
   "cell_type": "code",
   "execution_count": 22,
   "id": "f03a74d9",
   "metadata": {
    "collapsed": true,
    "jupyter": {
     "outputs_hidden": true
    },
    "tags": []
   },
   "outputs": [
    {
     "name": "stdout",
     "output_type": "stream",
     "text": [
      "[[0.0000000e+00 8.9742185e-21]\n",
      " [8.9742185e-21 8.9742185e-21]\n",
      " [8.9742185e-21 8.9742185e-21]\n",
      " [8.9742185e-21 8.9742185e-21]\n",
      " [8.9742185e-21 1.0000000e-20]\n",
      " [1.0000000e-20 3.8658172e-20]\n",
      " [3.8658172e-20 3.8658172e-20]\n",
      " [3.8658172e-20 3.8658172e-20]\n",
      " [3.8658172e-20 3.8658172e-20]\n",
      " [3.8658172e-20 5.0000000e-20]\n",
      " [5.0000000e-20 6.2129205e-21]\n",
      " [6.2129205e-21 6.2129205e-21]\n",
      " [6.2129205e-21 6.2129205e-21]\n",
      " [6.2129205e-21 6.2129205e-21]\n",
      " [6.2129205e-21 1.0000000e-19]\n",
      " [1.0000000e-19 8.9742185e-21]\n",
      " [8.9742185e-21 8.9742185e-21]\n",
      " [8.9742185e-21 8.9742185e-21]\n",
      " [8.9742185e-21 8.9742185e-21]\n",
      " [8.9742185e-21 1.0000000e-20]\n",
      " [1.0000000e-20 3.8658172e-20]\n",
      " [3.8658172e-20 3.8658172e-20]\n",
      " [3.8658172e-20 3.8658172e-20]\n",
      " [3.8658172e-20 3.8658172e-20]\n",
      " [3.8658172e-20 5.0000000e-20]\n",
      " [5.0000000e-20 6.2129205e-21]\n",
      " [6.2129205e-21 6.2129205e-21]\n",
      " [6.2129205e-21 6.2129205e-21]\n",
      " [6.2129205e-21 6.2129205e-21]\n",
      " [6.2129205e-21 1.0000000e-19]\n",
      " [1.0000000e-19 8.9742185e-21]\n",
      " [8.9742185e-21 8.9742185e-21]\n",
      " [8.9742185e-21 8.9742185e-21]\n",
      " [8.9742185e-21 8.9742185e-21]\n",
      " [8.9742185e-21 1.0000000e-20]\n",
      " [1.0000000e-20 3.8658172e-20]\n",
      " [3.8658172e-20 3.8658172e-20]\n",
      " [3.8658172e-20 3.8658172e-20]\n",
      " [3.8658172e-20 3.8658172e-20]\n",
      " [3.8658172e-20 5.0000000e-20]\n",
      " [5.0000000e-20 6.2129205e-21]\n",
      " [6.2129205e-21 6.2129205e-21]\n",
      " [6.2129205e-21 6.2129205e-21]\n",
      " [6.2129205e-21 6.2129205e-21]\n",
      " [6.2129205e-21 1.0000000e-19]\n",
      " [1.0000000e-19 8.9742185e-21]\n",
      " [8.9742185e-21 8.9742185e-21]\n",
      " [8.9742185e-21 8.9742185e-21]\n",
      " [8.9742185e-21 8.9742185e-21]\n",
      " [8.9742185e-21 1.0000000e-20]\n",
      " [1.0000000e-20 3.8658172e-20]\n",
      " [3.8658172e-20 3.8658172e-20]\n",
      " [3.8658172e-20 3.8658172e-20]\n",
      " [3.8658172e-20 3.8658172e-20]\n",
      " [3.8658172e-20 5.0000000e-20]\n",
      " [5.0000000e-20 6.2129205e-21]\n",
      " [6.2129205e-21 6.2129205e-21]\n",
      " [6.2129205e-21 6.2129205e-21]\n",
      " [6.2129205e-21 6.2129205e-21]\n",
      " [6.2129205e-21 1.0000000e-19]\n",
      " [1.0000000e-19 8.9742185e-21]\n",
      " [8.9742185e-21 8.9742185e-21]\n",
      " [8.9742185e-21 8.9742185e-21]\n",
      " [8.9742185e-21 8.9742185e-21]\n",
      " [8.9742185e-21 1.0000000e-20]\n",
      " [1.0000000e-20 3.8658172e-20]\n",
      " [3.8658172e-20 3.8658172e-20]\n",
      " [3.8658172e-20 3.8658172e-20]\n",
      " [3.8658172e-20 3.8658172e-20]\n",
      " [3.8658172e-20 5.0000000e-20]\n",
      " [5.0000000e-20 6.2129205e-21]\n",
      " [6.2129205e-21 6.2129205e-21]\n",
      " [6.2129205e-21 6.2129205e-21]\n",
      " [6.2129205e-21 6.2129205e-21]\n",
      " [6.2129205e-21 1.0000000e-19]\n",
      " [1.0000000e-19 8.9742185e-21]\n",
      " [8.9742185e-21 8.9742185e-21]\n",
      " [8.9742185e-21 8.9742185e-21]\n",
      " [8.9742185e-21 8.9742185e-21]\n",
      " [8.9742185e-21 1.0000000e-20]\n",
      " [1.0000000e-20 3.8658172e-20]\n",
      " [3.8658172e-20 3.8658172e-20]\n",
      " [3.8658172e-20 3.8658172e-20]\n",
      " [3.8658172e-20 3.8658172e-20]\n",
      " [3.8658172e-20 5.0000000e-20]\n",
      " [5.0000000e-20 6.2129205e-21]\n",
      " [6.2129205e-21 6.2129205e-21]\n",
      " [6.2129205e-21 6.2129205e-21]\n",
      " [6.2129205e-21 6.2129205e-21]\n",
      " [6.2129205e-21 1.0000000e-19]\n",
      " [1.0000000e-19 8.9742185e-21]\n",
      " [8.9742185e-21 8.9742185e-21]\n",
      " [8.9742185e-21 8.9742185e-21]\n",
      " [8.9742185e-21 8.9742185e-21]\n",
      " [8.9742185e-21 1.0000000e-20]\n",
      " [1.0000000e-20 3.8658172e-20]\n",
      " [3.8658172e-20 3.8658172e-20]\n",
      " [3.8658172e-20 3.8658172e-20]\n",
      " [3.8658172e-20 3.8658172e-20]\n",
      " [3.8658172e-20 5.0000000e-20]\n",
      " [5.0000000e-20 6.2129205e-21]\n",
      " [6.2129205e-21 6.2129205e-21]\n",
      " [6.2129205e-21 6.2129205e-21]\n",
      " [6.2129205e-21 6.2129205e-21]\n",
      " [6.2129205e-21 1.0000000e-19]\n",
      " [1.0000000e-19 8.9742185e-21]\n",
      " [8.9742185e-21 8.9742185e-21]\n",
      " [8.9742185e-21 8.9742185e-21]\n",
      " [8.9742185e-21 8.9742185e-21]\n",
      " [8.9742185e-21 1.0000000e-20]\n",
      " [1.0000000e-20 3.8658172e-20]\n",
      " [3.8658172e-20 3.8658172e-20]\n",
      " [3.8658172e-20 3.8658172e-20]\n",
      " [3.8658172e-20 3.8658172e-20]\n",
      " [3.8658172e-20 5.0000000e-20]\n",
      " [5.0000000e-20 6.2129205e-21]\n",
      " [6.2129205e-21 6.2129205e-21]\n",
      " [6.2129205e-21 6.2129205e-21]\n",
      " [6.2129205e-21 6.2129205e-21]\n",
      " [6.2129205e-21 1.0000000e-19]\n",
      " [1.0000000e-19 8.9742185e-21]\n",
      " [8.9742185e-21 8.9742185e-21]\n",
      " [8.9742185e-21 8.9742185e-21]\n",
      " [8.9742185e-21 8.9742185e-21]\n",
      " [8.9742185e-21 1.0000000e-20]\n",
      " [1.0000000e-20 3.8658172e-20]\n",
      " [3.8658172e-20 3.8658172e-20]\n",
      " [3.8658172e-20 3.8658172e-20]\n",
      " [3.8658172e-20 3.8658172e-20]\n",
      " [3.8658172e-20 5.0000000e-20]\n",
      " [5.0000000e-20 6.2129205e-21]\n",
      " [6.2129205e-21 6.2129205e-21]\n",
      " [6.2129205e-21 6.2129205e-21]\n",
      " [6.2129205e-21 6.2129205e-21]\n",
      " [6.2129205e-21 1.0000000e-19]\n",
      " [1.0000000e-19 8.9742185e-21]\n",
      " [8.9742185e-21 8.9742185e-21]\n",
      " [8.9742185e-21 8.9742185e-21]\n",
      " [8.9742185e-21 8.9742185e-21]\n",
      " [8.9742185e-21 1.0000000e-20]\n",
      " [1.0000000e-20 3.8658172e-20]\n",
      " [3.8658172e-20 3.8658172e-20]\n",
      " [3.8658172e-20 3.8658172e-20]\n",
      " [3.8658172e-20 3.8658172e-20]\n",
      " [3.8658172e-20 5.0000000e-20]\n",
      " [5.0000000e-20 6.2129205e-21]\n",
      " [6.2129205e-21 6.2129205e-21]\n",
      " [6.2129205e-21 6.2129205e-21]\n",
      " [6.2129205e-21 6.2129205e-21]\n",
      " [6.2129205e-21 0.0000000e+00]]\n"
     ]
    }
   ],
   "source": [
    "exch_coup_const_sam=get_exch_coup_sam(materials, sample, mat_loc)\n",
    "print(exch_coup_const_sam)"
   ]
  },
  {
   "cell_type": "code",
   "execution_count": null,
   "id": "e19285c3-91c2-42df-83cd-6c1d97e980a2",
   "metadata": {},
   "outputs": [],
   "source": [
    "def get_exch_stiff_sam(materials, sample, mat_loc):\n",
    "    #This computes a grid for the exchange stiffness in analogous fashion to get_exch_coup_sam()\n",
    "    A_mat=np.zeros((len(materials), len(materials)))\n",
    "    for i, mat in enumerate(materials):\n",
    "        A_mat[i][i]=mat.A_0\n",
    "        \n",
    "    A_mat[0][1]=1e-12\n",
    "    A_mat[1][2]=5e-12\n",
    "    A_mat[0][2]=2.5e-12\n",
    "    \n",
    "    for i in range(1, len(materials)):\n",
    "        for j in range(i):\n",
    "            A_mat[i][j]=A_mat[j][i]\n",
    "            \n",
    "    ex_stiff_arr=np.zeros((len(sample),2))\n",
    "    \n",
    "    for i, grain in enumerate(sample):\n",
    "        if i>0:\n",
    "            ex_stiff_arr[i][0]=A_mat[mat_loc[i]][mat_loc[i-1]]\n",
    "        if i<len(sample)-1:\n",
    "            ex_stiff_arr[i][1]=A_mat[mat_loc[i]][mat_loc[i+1]]\n",
    "    return ex_stiff_arr"
   ]
  },
  {
   "cell_type": "code",
   "execution_count": null,
   "id": "f2039a32-7439-486c-9b91-44837fde3a42",
   "metadata": {
    "tags": []
   },
   "outputs": [],
   "source": [
    "ex_stiff_sam=get_exch_stiff_sam(materials, sample, mat_loc)\n",
    "print(ex_stiff_sam)"
   ]
  },
  {
   "cell_type": "markdown",
   "id": "e492a9d0-c58d-4ea0-ab26-98cce3b71d94",
   "metadata": {},
   "source": [
    "### Anisotropy strenghts"
   ]
  },
  {
   "cell_type": "code",
   "execution_count": 27,
   "id": "f31e1958-c675-4da9-8e9c-16246d3d0bc7",
   "metadata": {},
   "outputs": [],
   "source": [
    "def get_ani_sam(materials, mat_loc):\n",
    "    ani_arr=[anisotropy(materials[i]) for i in mat_loc]\n",
    "    return ani_arr"
   ]
  },
  {
   "cell_type": "code",
   "execution_count": 28,
   "id": "6a3ec4f8-fe53-4b06-967f-901e1fbe0595",
   "metadata": {},
   "outputs": [
    {
     "ename": "TypeError",
     "evalue": "anisotropy() missing 4 required positional arguments: 'meq', 'm', 'm_amps', and 'ax'",
     "output_type": "error",
     "traceback": [
      "\u001b[1;31m---------------------------------------------------------------------------\u001b[0m",
      "\u001b[1;31mTypeError\u001b[0m                                 Traceback (most recent call last)",
      "Cell \u001b[1;32mIn[28], line 1\u001b[0m\n\u001b[1;32m----> 1\u001b[0m anis_const_sam\u001b[38;5;241m=\u001b[39m\u001b[43mget_ani_sam\u001b[49m\u001b[43m(\u001b[49m\u001b[43mmaterials\u001b[49m\u001b[43m,\u001b[49m\u001b[43m \u001b[49m\u001b[43mmat_loc\u001b[49m\u001b[43m)\u001b[49m\n",
      "Cell \u001b[1;32mIn[27], line 2\u001b[0m, in \u001b[0;36mget_ani_sam\u001b[1;34m(materials, mat_loc)\u001b[0m\n\u001b[0;32m      1\u001b[0m \u001b[38;5;28;01mdef\u001b[39;00m \u001b[38;5;21mget_ani_sam\u001b[39m(materials, mat_loc):\n\u001b[1;32m----> 2\u001b[0m     ani_arr\u001b[38;5;241m=\u001b[39m\u001b[43m[\u001b[49m\u001b[43manisotropy\u001b[49m\u001b[43m(\u001b[49m\u001b[43mmaterials\u001b[49m\u001b[43m[\u001b[49m\u001b[43mi\u001b[49m\u001b[43m]\u001b[49m\u001b[43m)\u001b[49m\u001b[43m \u001b[49m\u001b[38;5;28;43;01mfor\u001b[39;49;00m\u001b[43m \u001b[49m\u001b[43mi\u001b[49m\u001b[43m \u001b[49m\u001b[38;5;129;43;01min\u001b[39;49;00m\u001b[43m \u001b[49m\u001b[43mmat_loc\u001b[49m\u001b[43m]\u001b[49m\n\u001b[0;32m      3\u001b[0m     \u001b[38;5;28;01mreturn\u001b[39;00m ani_arr\n",
      "Cell \u001b[1;32mIn[27], line 2\u001b[0m, in \u001b[0;36m<listcomp>\u001b[1;34m(.0)\u001b[0m\n\u001b[0;32m      1\u001b[0m \u001b[38;5;28;01mdef\u001b[39;00m \u001b[38;5;21mget_ani_sam\u001b[39m(materials, mat_loc):\n\u001b[1;32m----> 2\u001b[0m     ani_arr\u001b[38;5;241m=\u001b[39m[\u001b[43manisotropy\u001b[49m\u001b[43m(\u001b[49m\u001b[43mmaterials\u001b[49m\u001b[43m[\u001b[49m\u001b[43mi\u001b[49m\u001b[43m]\u001b[49m\u001b[43m)\u001b[49m \u001b[38;5;28;01mfor\u001b[39;00m i \u001b[38;5;129;01min\u001b[39;00m mat_loc]\n\u001b[0;32m      3\u001b[0m     \u001b[38;5;28;01mreturn\u001b[39;00m ani_arr\n",
      "\u001b[1;31mTypeError\u001b[0m: anisotropy() missing 4 required positional arguments: 'meq', 'm', 'm_amps', and 'ax'"
     ]
    }
   ],
   "source": [
    "anis_const_sam=get_ani_sam(materials, mat_loc)"
   ]
  },
  {
   "cell_type": "markdown",
   "id": "00fdaad6-56ae-4e4e-a078-b95269ae40ed",
   "metadata": {
    "tags": []
   },
   "source": [
    "# LLB 1d dynamical simulation"
   ]
  },
  {
   "cell_type": "markdown",
   "id": "23ee768d-b14f-4569-a8c1-29f1f8e27ffa",
   "metadata": {},
   "source": [
    "## Overview of dynamical simulation"
   ]
  },
  {
   "cell_type": "markdown",
   "id": "27c6c755-0ab2-4e10-a981-279cc83e950f",
   "metadata": {},
   "source": [
    "Now comes the actual dynamical qLLB simulation. We will import a temperature profile dependent on time and 1d-space, and evaluate the change of magnetization vectors of every grain within the sample at every timestep. The dynamical LLB equations are expressed as follows:\n",
    "\n",
    "\\begin{align}\n",
    "    \\frac{1}{\\gamma}\\frac{d\\mathbf{m}}{dt}=\\mathbf{m} \\times \\mathbf{H}_{eff}+ \\frac{\\alpha_{\\perp}}{m^2}\\mathbf{m} \\times (\\mathbf{m} \\times \\mathbf{H}_{eff}) + \\frac{\\alpha_{\\parallel}}{m^2} (\\mathbf{m}  \\cdot \\mathbf{H}_{eff}) \\cdot \\mathbf{m},\n",
    "\\end{align}\n",
    "\n",
    "with the above defined damping parameters. The three terms describe i) precession at Lamor frequency, ii) transversal damping (conserving the macrospin length) and iii) longitudinal damping (changing macrospin length due to incoherent atomistic spin excitations within the grainsize the macrospin is defined on). The effective magnetic field is the sum of all relevant magnetic interactions:\n",
    "\n",
    "\\begin{align}\n",
    "    \\mathbf{H}_{eff}= \\mathbf{H}_{ext}+\\mathbf{H}_A+\\mathbf{H}_{ex}+\\mathbf{H}_{th},\n",
    "\\end{align}\n",
    "\n",
    "where $\\mathbf{H}_{ext}$ is an external magnetic field, and $\\mathbf{H}_{th}$ is a thermal field, defined as:\n",
    "\n",
    "\\begin{align}\n",
    "    \\mathbf{H}_{th}=_{T<T_C} \\frac{1}{2\\chi_{\\parallel}}(1-\\frac{m^2}{m_e^2})\\mathbf{m}\n",
    "\\end{align}\n",
    "\n",
    "\\begin{align}\n",
    "    \\mathbf{H}_{th}=_{T>T_C} \\frac{1}{\\chi_{\\parallel}}(1+\\frac{3}{5} \\frac{T_C}{T-T_C}m^2)\\mathbf{m}\n",
    "\\end{align}"
   ]
  },
  {
   "cell_type": "markdown",
   "id": "bee49dcc-6a60-43aa-816b-88aa96db792c",
   "metadata": {},
   "source": [
    "## Functions that are to be computed at every timestep"
   ]
  },
  {
   "cell_type": "markdown",
   "id": "f15c7868-ab4b-42a9-b872-64ba7124fb45",
   "metadata": {},
   "source": [
    "are all temperature dependent functions. Expecially the mean field magnetization profile for the sample at a given temperature profile, and the corresponding effective magnetic field."
   ]
  },
  {
   "cell_type": "markdown",
   "id": "d70ad2e9-54a5-4ed1-816e-a3cfaa19498a",
   "metadata": {},
   "source": [
    "### Profile of the mean field magnetization"
   ]
  },
  {
   "cell_type": "markdown",
   "id": "2dce6a7e-1320-4f64-8f50-245af5944b6e",
   "metadata": {},
   "source": [
    "Now we make use of the material-specific seperation of the sample in terms of mat_gr_ind and construct a mean mag map for a given array of temperatures and an arbitrary sample composition."
   ]
  },
  {
   "cell_type": "code",
   "execution_count": null,
   "id": "fbcae98f-9835-4024-9ffd-9902bf2fa5fa",
   "metadata": {},
   "outputs": [],
   "source": [
    "def get_mean_mag_sam(mat_gr_ind, materials, T):\n",
    "    #T shall be a list of lists ordered the same way as material_grain_indices. Later on we will construct such a temperature list from 1d- input data."
   ]
  }
 ],
 "metadata": {
  "kernelspec": {
   "display_name": "Python 3 (ipykernel)",
   "language": "python",
   "name": "python3"
  },
  "language_info": {
   "codemirror_mode": {
    "name": "ipython",
    "version": 3
   },
   "file_extension": ".py",
   "mimetype": "text/x-python",
   "name": "python",
   "nbconvert_exporter": "python",
   "pygments_lexer": "ipython3",
   "version": "3.11.1"
  },
  "toc-autonumbering": true,
  "toc-showmarkdowntxt": false
 },
 "nbformat": 4,
 "nbformat_minor": 5
}
